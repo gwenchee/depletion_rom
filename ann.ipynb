{
 "cells": [
  {
   "cell_type": "code",
   "execution_count": 4,
   "metadata": {},
   "outputs": [],
   "source": [
    "import numpy as np\n",
    "import matplotlib.pyplot as plt\n",
    "import seaborn as sns\n",
    "import pandas as pd\n",
    "import sklearn\n",
    "import keras.backend as K\n",
    "from keras.models import Sequential\n",
    "from keras.layers import Dense\n",
    "from sklearn.ensemble import RandomForestRegressor\n",
    "from sklearn import linear_model\n",
    "from sklearn import svm\n",
    "import pickle"
   ]
  },
  {
   "cell_type": "markdown",
   "metadata": {},
   "source": [
    "## Import and curate dataframe"
   ]
  },
  {
   "cell_type": "code",
   "execution_count": 5,
   "metadata": {},
   "outputs": [],
   "source": [
    "all_dat = pd.read_csv('./curated.csv', index_col=0)\n",
    "\n",
    "# sift out pwrs\n",
    "all_dat = all_dat.loc[all_dat['reactor_type'] == 'PWR']  \n",
    "all_dat = sklearn.utils.shuffle(all_dat)\n",
    "# only get assemblies with enrichment bigger than 1.5 and bunrup higher than 10,000\n",
    "all_dat = all_dat.loc[(all_dat['init_enr'] > 1.5) & (all_dat['bu'] > 10000)]\n",
    "\n",
    "# separate training and testing set\n",
    "row_num = all_dat.shape[0]\n",
    "cutoff = int(row_num * 0.6)\n",
    "train_dat = all_dat.iloc[:cutoff, :]\n",
    "test_dat = all_dat.iloc[cutoff:, :]\n"
   ]
  },
  {
   "cell_type": "markdown",
   "metadata": {},
   "source": [
    "## Categorize Isotopes "
   ]
  },
  {
   "cell_type": "code",
   "execution_count": 6,
   "metadata": {},
   "outputs": [
    {
     "name": "stdout",
     "output_type": "stream",
     "text": [
      "{'u235': ['u-235'], 'bred_fissile': ['pu-239', 'u-233'], 'fp': ['zr-95', 'zr-93', 'ru-103', 'ru-106', 'sb-124', 'sb-125', 'nb-95', 'pd-107', 'pm-147', 'i-129', 'h-3', 'kr-85', 'nb-94', 'cs-134', 'cs-135', 'eu-152', 'cs-137', 'eu-154', 'eu-155', 'ag-108m', 'ag-110m', 'c-14', 'ce-144', 'y-90', 'tc-99', 'sm-151', 'se-79', 'sr-90', 'sn-126'], 'tru': ['pu-238', 'np-237', 'pu-240', 'pu-241', 'pu-244', 'pu-242', 'cm-248', 'cm-245', 'cm-244', 'cm-246', 'cm-247', 'am-241', 'am-243', 'cm-243', 'cm-242'], 'nottru': ['ra-226', 'pa-231', 'am-242m', 'cf-251', 'cf-249', 'ac-227', 'u-234', 'u-236', 'u-238', 'th-229', 'th-232', 'th-230', 'u-232']}\n"
     ]
    }
   ],
   "source": [
    "# get all the isotopes, sorted by A\n",
    "def get_name(f):\n",
    "    z = ''\n",
    "    for i in f:\n",
    "        if i.isalpha():\n",
    "            z += i\n",
    "    return z\n",
    "\n",
    "def get_a(f):\n",
    "    z = ''\n",
    "    for i in f:\n",
    "        if i.isdigit():\n",
    "            z += i\n",
    "    return int(z)\n",
    "\n",
    "iso_list = list(train_dat)[4:]\n",
    "# set the isotopes to categories:\n",
    "fp = []\n",
    "bred_fissile = []\n",
    "u235 = []\n",
    "nottru = []\n",
    "tru = []\n",
    "\n",
    "for iso in iso_list:\n",
    "    if iso == 'u-235':\n",
    "        u235.append(iso)\n",
    "    elif iso in ['pu-239', 'u-233']:\n",
    "        bred_fissile.append(iso)\n",
    "    elif get_a(iso) < 200:\n",
    "        fp.append(iso)\n",
    "    elif get_name(iso) in ['np', 'pu', 'am', 'cm']:\n",
    "        tru.append(iso)\n",
    "    else:\n",
    "        nottru.append(iso)\n",
    "\n",
    "category = {'u235': u235,\n",
    "            'bred_fissile': bred_fissile,\n",
    "            'fp': fp,\n",
    "            'tru': tru,\n",
    "            'nottru': nottru}\n",
    "\n",
    "print(category)"
   ]
  },
  {
   "cell_type": "markdown",
   "metadata": {},
   "source": [
    "# ANN algorithm ( + hyperparameter grid search)\n",
    "Below is an attempt to fit prediction of all isotopes in one Artificial Neural Network (ANN).\n",
    "First, the dataset is fit to an array of potential hyperparameters to find the best combination of hyperparameters for best predicting the isotope composition."
   ]
  },
  {
   "cell_type": "code",
   "execution_count": null,
   "metadata": {},
   "outputs": [],
   "source": [
    "import keras.backend as K\n",
    "from keras.models import Sequential\n",
    "from keras.layers import Dense\n",
    "from keras.wrappers.scikit_learn import KerasRegressor\n",
    "from sklearn.model_selection import GridSearchCV"
   ]
  },
  {
   "cell_type": "code",
   "execution_count": 9,
   "metadata": {},
   "outputs": [
    {
     "name": "stderr",
     "output_type": "stream",
     "text": [
      "/home/teddy/anaconda3/lib/python3.6/site-packages/ipykernel_launcher.py:16: FutureWarning: Method .as_matrix will be removed in a future version. Use .values instead.\n",
      "  app.launch_new_instance()\n"
     ]
    },
    {
     "name": "stdout",
     "output_type": "stream",
     "text": [
      "batch_size \n",
      "\n",
      "\n",
      "Best: -37339.711532 using {'batch_size': 20}\n",
      "epochs \n",
      "\n",
      "\n",
      "Best: -26118.439008 using {'epochs': 100}\n",
      "optimizer \n",
      "\n",
      "\n"
     ]
    },
    {
     "name": "stderr",
     "output_type": "stream",
     "text": [
      "/home/teddy/anaconda3/lib/python3.6/site-packages/sklearn/model_selection/_search.py:841: DeprecationWarning: The default of the `iid` parameter will change from True to False in version 0.22 and will be removed in 0.24. This will change numeric results when test-set sizes are unequal.\n",
      "  DeprecationWarning)\n"
     ]
    },
    {
     "name": "stdout",
     "output_type": "stream",
     "text": [
      "Best: -64947.839717 using {'optimizer': 'Adamax'}\n",
      "activation \n",
      "\n",
      "\n",
      "Best: -54298.198281 using {'activation': 'softsign'}\n",
      "neurons \n",
      "\n",
      "\n",
      "Best: -72339.409573 using {'neurons': 1}\n",
      "hidden_layers \n",
      "\n",
      "\n",
      "Best: -28876.054232 using {'hidden_layers': 10}\n"
     ]
    }
   ],
   "source": [
    "# grid search to find best hyperparameter\n",
    "\n",
    "def create_model(optimizer='adam', learn_rate=0.01, momentum=0,\n",
    "                 activation='relu', neurons=1,\n",
    "                 hidden_layers=1):\n",
    "    model = Sequential()\n",
    "    model.add(Dense(neurons, input_dim=2, activation=activation))\n",
    "    # consider putting in dropout?\n",
    "    for i in range(hidden_layers):\n",
    "        model.add(Dense(neurons, activation=activation))\n",
    "    model.add(Dense(60, activation='linear'))\n",
    "    model.compile(loss='mean_absolute_percentage_error', optimizer=optimizer,\n",
    "                  metrics=['mean_absolute_percentage_error'])\n",
    "    return model\n",
    "\n",
    "x = all_dat[['init_enr', 'bu']].as_matrix()\n",
    "y = all_dat.iloc[:,4:]\n",
    "\n",
    "model = KerasRegressor(build_fn=create_model, verbose=0)\n",
    "param_grid = dict(batch_size=[10, 20, 40, 60, 80],\n",
    "                  epochs=[10, 50, 100, 200],\n",
    "                  optimizer=['SGD', 'RMSprop', 'Adagrad', 'Adadelta', 'Adam', 'Adamax', 'Nadam'],\n",
    "                  # learn rate and momentum implementation???\n",
    "                  activation = ['relu', 'softmax', 'softplus', 'softsign', 'tanh', 'linear'],\n",
    "                  neurons = [1, 5, 10, 20, 40, 80],\n",
    "                  hidden_layers = [0, 1, 3, 5, 10]\n",
    "                  )\n",
    "result_dict = {}\n",
    "\n",
    "# for every hyperparameter, run a grid search\n",
    "for param, param_list in param_grid.items():\n",
    "    print(param, '\\n\\n')\n",
    "    use = {param: param_list}\n",
    "    grid = GridSearchCV(estimator=model, param_grid=use)\n",
    "    grid_result = grid.fit(x, y)\n",
    "    result_dict[param] = (grid_result.best_score_, grid_result.best_params_)\n",
    "    # summarize results\n",
    "    print('Best: %f using %s' %(grid_result.best_score_, grid_result.best_params_))\n",
    "    means = grid_result.cv_results_['mean_test_score']\n",
    "    stds = grid_result.cv_results_['std_test_score']\n",
    "    params = grid_result.cv_results_['params']\n",
    "\n",
    "    #for mean, stdev. param in zip(means, stds, params):\n",
    "    #    print('%f (%f) with: %r' %(mean, stdev, param))\n"
   ]
  },
  {
   "cell_type": "code",
   "execution_count": 19,
   "metadata": {},
   "outputs": [
    {
     "data": {
      "text/plain": [
       "{'batch_size': (-37339.71153245486, {'batch_size': 20}),\n",
       " 'epochs': (-26118.439008011042, {'epochs': 100}),\n",
       " 'optimizer': (-64947.83971664397, {'optimizer': 'Adamax'}),\n",
       " 'activation': (-54298.19828140842, {'activation': 'softsign'}),\n",
       " 'neurons': (-72339.40957284004, {'neurons': 1}),\n",
       " 'hidden_layers': (-28876.054231980685, {'hidden_layers': 10})}"
      ]
     },
     "execution_count": 19,
     "metadata": {},
     "output_type": "execute_result"
    }
   ],
   "source": [
    "result_dict"
   ]
  },
  {
   "cell_type": "code",
   "execution_count": 20,
   "metadata": {},
   "outputs": [
    {
     "name": "stderr",
     "output_type": "stream",
     "text": [
      "/home/teddy/anaconda3/lib/python3.6/site-packages/ipykernel_launcher.py:23: FutureWarning: Method .as_matrix will be removed in a future version. Use .values instead.\n"
     ]
    },
    {
     "name": "stdout",
     "output_type": "stream",
     "text": [
      "<keras.models.Sequential object at 0x7f0e9c2dd710>\n",
      "Train on 73185 samples, validate on 31366 samples\n",
      "Epoch 1/100\n",
      "73185/73185 [==============================] - 24s 334us/step - loss: 88177.8860 - mean_absolute_percentage_error: 88177.8860 - val_loss: 76297.6464 - val_mean_absolute_percentage_error: 76297.6464\n",
      "Epoch 2/100\n",
      "73185/73185 [==============================] - 18s 243us/step - loss: 71776.8624 - mean_absolute_percentage_error: 71776.8624 - val_loss: 66387.5748 - val_mean_absolute_percentage_error: 66387.5748\n",
      "Epoch 3/100\n",
      "73185/73185 [==============================] - 17s 227us/step - loss: 71383.8011 - mean_absolute_percentage_error: 71383.8011 - val_loss: 86997.0727 - val_mean_absolute_percentage_error: 86997.0727\n",
      "Epoch 4/100\n",
      "73185/73185 [==============================] - 16s 218us/step - loss: 72922.7693 - mean_absolute_percentage_error: 72922.7693 - val_loss: 66281.3289 - val_mean_absolute_percentage_error: 66281.3289\n",
      "Epoch 5/100\n",
      "73185/73185 [==============================] - 16s 217us/step - loss: 75174.1389 - mean_absolute_percentage_error: 75174.1389 - val_loss: 66275.5601 - val_mean_absolute_percentage_error: 66275.5601\n",
      "Epoch 6/100\n",
      "73185/73185 [==============================] - 16s 219us/step - loss: 73798.0947 - mean_absolute_percentage_error: 73798.0947 - val_loss: 73138.0659 - val_mean_absolute_percentage_error: 73138.0659\n",
      "Epoch 7/100\n",
      "73185/73185 [==============================] - 16s 218us/step - loss: 76586.4221 - mean_absolute_percentage_error: 76586.4221 - val_loss: 77035.5503 - val_mean_absolute_percentage_error: 77035.5503\n",
      "Epoch 8/100\n",
      "73185/73185 [==============================] - 16s 217us/step - loss: 75758.8037 - mean_absolute_percentage_error: 75758.8037 - val_loss: 83912.7832 - val_mean_absolute_percentage_error: 83912.7832\n",
      "Epoch 9/100\n",
      "73185/73185 [==============================] - 16s 219us/step - loss: 74695.9809 - mean_absolute_percentage_error: 74695.9809 - val_loss: 101447.4250 - val_mean_absolute_percentage_error: 101447.4250\n",
      "Epoch 10/100\n",
      "73185/73185 [==============================] - 17s 227us/step - loss: 73134.1447 - mean_absolute_percentage_error: 73134.1447 - val_loss: 77709.2228 - val_mean_absolute_percentage_error: 77709.2228\n",
      "Epoch 11/100\n",
      "73185/73185 [==============================] - 16s 217us/step - loss: 72889.9083 - mean_absolute_percentage_error: 72889.9083 - val_loss: 47298.8597 - val_mean_absolute_percentage_error: 47298.8597\n",
      "Epoch 12/100\n",
      "73185/73185 [==============================] - 16s 214us/step - loss: 69257.1391 - mean_absolute_percentage_error: 69257.1391 - val_loss: 74673.0227 - val_mean_absolute_percentage_error: 74673.0227\n",
      "Epoch 13/100\n",
      "73185/73185 [==============================] - 16s 213us/step - loss: 70208.5364 - mean_absolute_percentage_error: 70208.5364 - val_loss: 72030.7407 - val_mean_absolute_percentage_error: 72030.7407\n",
      "Epoch 14/100\n",
      "73185/73185 [==============================] - 15s 211us/step - loss: 70284.2412 - mean_absolute_percentage_error: 70284.2412 - val_loss: 75813.1071 - val_mean_absolute_percentage_error: 75813.1071\n",
      "Epoch 15/100\n",
      "73185/73185 [==============================] - 16s 213us/step - loss: 71803.3386 - mean_absolute_percentage_error: 71803.3386 - val_loss: 92599.2900 - val_mean_absolute_percentage_error: 92599.2900\n",
      "Epoch 16/100\n",
      "73185/73185 [==============================] - 16s 215us/step - loss: 74179.7592 - mean_absolute_percentage_error: 74179.7592 - val_loss: 83694.9755 - val_mean_absolute_percentage_error: 83694.9755\n",
      "Epoch 17/100\n",
      "73185/73185 [==============================] - 16s 215us/step - loss: 73951.6685 - mean_absolute_percentage_error: 73951.6685 - val_loss: 87476.2474 - val_mean_absolute_percentage_error: 87476.2474\n",
      "Epoch 18/100\n",
      "73185/73185 [==============================] - 16s 214us/step - loss: 70901.6441 - mean_absolute_percentage_error: 70901.6441 - val_loss: 76895.3145 - val_mean_absolute_percentage_error: 76895.3145\n",
      "Epoch 19/100\n",
      "73185/73185 [==============================] - 16s 213us/step - loss: 71297.1570 - mean_absolute_percentage_error: 71297.1570 - val_loss: 76300.2229 - val_mean_absolute_percentage_error: 76300.2229\n",
      "Epoch 20/100\n",
      "73185/73185 [==============================] - 16s 212us/step - loss: 71703.4390 - mean_absolute_percentage_error: 71703.4390 - val_loss: 70406.9166 - val_mean_absolute_percentage_error: 70406.9166\n",
      "Epoch 21/100\n",
      "73185/73185 [==============================] - 16s 212us/step - loss: 73554.1439 - mean_absolute_percentage_error: 73554.1439 - val_loss: 79254.5046 - val_mean_absolute_percentage_error: 79254.5046\n",
      "Epoch 22/100\n",
      "73185/73185 [==============================] - 16s 213us/step - loss: 72640.0529 - mean_absolute_percentage_error: 72640.0529 - val_loss: 80725.0438 - val_mean_absolute_percentage_error: 80725.0438\n",
      "Epoch 23/100\n",
      "73185/73185 [==============================] - 16s 215us/step - loss: 70316.3832 - mean_absolute_percentage_error: 70316.3832 - val_loss: 68550.6065 - val_mean_absolute_percentage_error: 68550.6065\n",
      "Epoch 24/100\n",
      "73185/73185 [==============================] - 16s 213us/step - loss: 71506.9705 - mean_absolute_percentage_error: 71506.9705 - val_loss: 61941.9341 - val_mean_absolute_percentage_error: 61941.9341\n",
      "Epoch 25/100\n",
      "73185/73185 [==============================] - 16s 216us/step - loss: 72851.8786 - mean_absolute_percentage_error: 72851.8786 - val_loss: 82948.3677 - val_mean_absolute_percentage_error: 82948.3677\n",
      "Epoch 26/100\n",
      "73185/73185 [==============================] - 16s 214us/step - loss: 72968.4548 - mean_absolute_percentage_error: 72968.4548 - val_loss: 80020.2702 - val_mean_absolute_percentage_error: 80020.2702\n",
      "Epoch 27/100\n",
      "73185/73185 [==============================] - 16s 212us/step - loss: 72850.2824 - mean_absolute_percentage_error: 72850.2824 - val_loss: 75912.4180 - val_mean_absolute_percentage_error: 75912.4180\n",
      "Epoch 28/100\n",
      "73185/73185 [==============================] - 16s 212us/step - loss: 73371.3635 - mean_absolute_percentage_error: 73371.3635 - val_loss: 67047.2809 - val_mean_absolute_percentage_error: 67047.2809\n",
      "Epoch 29/100\n",
      "73185/73185 [==============================] - 16s 213us/step - loss: 75547.5171 - mean_absolute_percentage_error: 75547.5171 - val_loss: 83583.9931 - val_mean_absolute_percentage_error: 83583.9931\n",
      "Epoch 30/100\n",
      "73185/73185 [==============================] - 16s 213us/step - loss: 74239.4051 - mean_absolute_percentage_error: 74239.4051 - val_loss: 68528.3354 - val_mean_absolute_percentage_error: 68528.3354\n",
      "Epoch 31/100\n",
      "73185/73185 [==============================] - 16s 214us/step - loss: 71355.5589 - mean_absolute_percentage_error: 71355.5589 - val_loss: 60007.3089 - val_mean_absolute_percentage_error: 60007.3089\n",
      "Epoch 32/100\n",
      "73185/73185 [==============================] - 16s 213us/step - loss: 72528.3649 - mean_absolute_percentage_error: 72528.3649 - val_loss: 86829.5471 - val_mean_absolute_percentage_error: 86829.5471\n",
      "Epoch 33/100\n",
      "73185/73185 [==============================] - 16s 214us/step - loss: 72466.2313 - mean_absolute_percentage_error: 72466.2313 - val_loss: 87147.3809 - val_mean_absolute_percentage_error: 87147.3809\n",
      "Epoch 34/100\n",
      "73185/73185 [==============================] - 16s 213us/step - loss: 71738.2817 - mean_absolute_percentage_error: 71738.2817 - val_loss: 62230.3339 - val_mean_absolute_percentage_error: 62230.3339\n",
      "Epoch 35/100\n",
      "73185/73185 [==============================] - 16s 213us/step - loss: 73849.2161 - mean_absolute_percentage_error: 73849.2161 - val_loss: 76137.6067 - val_mean_absolute_percentage_error: 76137.6067\n",
      "Epoch 36/100\n",
      "73185/73185 [==============================] - 15s 211us/step - loss: 69923.9724 - mean_absolute_percentage_error: 69923.9724 - val_loss: 84789.3068 - val_mean_absolute_percentage_error: 84789.3068\n",
      "Epoch 37/100\n",
      "73185/73185 [==============================] - 16s 212us/step - loss: 68236.4944 - mean_absolute_percentage_error: 68236.4944 - val_loss: 59130.9267 - val_mean_absolute_percentage_error: 59130.9267\n",
      "Epoch 38/100\n",
      "73185/73185 [==============================] - 16s 212us/step - loss: 68196.5417 - mean_absolute_percentage_error: 68196.5417 - val_loss: 60015.2813 - val_mean_absolute_percentage_error: 60015.2813\n",
      "Epoch 39/100\n"
     ]
    },
    {
     "name": "stdout",
     "output_type": "stream",
     "text": [
      "73185/73185 [==============================] - 16s 212us/step - loss: 68745.6717 - mean_absolute_percentage_error: 68745.6717 - val_loss: 100072.1471 - val_mean_absolute_percentage_error: 100072.1471\n",
      "Epoch 40/100\n",
      "73185/73185 [==============================] - 16s 214us/step - loss: 68765.0778 - mean_absolute_percentage_error: 68765.0778 - val_loss: 71391.0159 - val_mean_absolute_percentage_error: 71391.0159\n",
      "Epoch 41/100\n",
      "73185/73185 [==============================] - 16s 212us/step - loss: 69671.2282 - mean_absolute_percentage_error: 69671.2282 - val_loss: 72415.5808 - val_mean_absolute_percentage_error: 72415.5808\n",
      "Epoch 42/100\n",
      "73185/73185 [==============================] - 16s 213us/step - loss: 69786.3615 - mean_absolute_percentage_error: 69786.3615 - val_loss: 81661.7223 - val_mean_absolute_percentage_error: 81661.7223\n",
      "Epoch 43/100\n",
      "73185/73185 [==============================] - 15s 212us/step - loss: 71513.1146 - mean_absolute_percentage_error: 71513.1146 - val_loss: 70954.3089 - val_mean_absolute_percentage_error: 70954.3089\n",
      "Epoch 44/100\n",
      "73185/73185 [==============================] - 16s 212us/step - loss: 70578.9827 - mean_absolute_percentage_error: 70578.9827 - val_loss: 83601.1950 - val_mean_absolute_percentage_error: 83601.1950\n",
      "Epoch 45/100\n",
      "73185/73185 [==============================] - 16s 213us/step - loss: 71412.6494 - mean_absolute_percentage_error: 71412.6494 - val_loss: 93161.5678 - val_mean_absolute_percentage_error: 93161.5678\n",
      "Epoch 46/100\n",
      "73185/73185 [==============================] - 15s 212us/step - loss: 71017.8248 - mean_absolute_percentage_error: 71017.8248 - val_loss: 78061.4125 - val_mean_absolute_percentage_error: 78061.4125\n",
      "Epoch 47/100\n",
      "73185/73185 [==============================] - 15s 212us/step - loss: 71695.7787 - mean_absolute_percentage_error: 71695.7787 - val_loss: 95129.0020 - val_mean_absolute_percentage_error: 95129.0020\n",
      "Epoch 48/100\n",
      "73185/73185 [==============================] - 16s 212us/step - loss: 72262.0495 - mean_absolute_percentage_error: 72262.0495 - val_loss: 82658.0063 - val_mean_absolute_percentage_error: 82658.0063\n",
      "Epoch 49/100\n",
      "73185/73185 [==============================] - 16s 212us/step - loss: 73170.1839 - mean_absolute_percentage_error: 73170.1839 - val_loss: 62144.9654 - val_mean_absolute_percentage_error: 62144.9654\n",
      "Epoch 50/100\n",
      "73185/73185 [==============================] - 16s 212us/step - loss: 72412.2551 - mean_absolute_percentage_error: 72412.2551 - val_loss: 78507.2766 - val_mean_absolute_percentage_error: 78507.2766\n",
      "Epoch 51/100\n",
      "73185/73185 [==============================] - 16s 212us/step - loss: 71455.0052 - mean_absolute_percentage_error: 71455.0052 - val_loss: 83298.1384 - val_mean_absolute_percentage_error: 83298.1384\n",
      "Epoch 52/100\n",
      "73185/73185 [==============================] - 16s 213us/step - loss: 72617.8439 - mean_absolute_percentage_error: 72617.8439 - val_loss: 56917.1428 - val_mean_absolute_percentage_error: 56917.1428\n",
      "Epoch 53/100\n",
      "73185/73185 [==============================] - 16s 214us/step - loss: 73113.9897 - mean_absolute_percentage_error: 73113.9897 - val_loss: 71171.4638 - val_mean_absolute_percentage_error: 71171.4638\n",
      "Epoch 54/100\n",
      "73185/73185 [==============================] - 16s 213us/step - loss: 72640.1208 - mean_absolute_percentage_error: 72640.1208 - val_loss: 63341.6959 - val_mean_absolute_percentage_error: 63341.6959\n",
      "Epoch 55/100\n",
      "73185/73185 [==============================] - 16s 213us/step - loss: 74744.5418 - mean_absolute_percentage_error: 74744.5418 - val_loss: 61852.4458 - val_mean_absolute_percentage_error: 61852.4458\n",
      "Epoch 56/100\n",
      "73185/73185 [==============================] - 15s 211us/step - loss: 73006.9006 - mean_absolute_percentage_error: 73006.9006 - val_loss: 84960.1659 - val_mean_absolute_percentage_error: 84960.1659\n",
      "Epoch 57/100\n",
      "73185/73185 [==============================] - 16s 214us/step - loss: 73384.8217 - mean_absolute_percentage_error: 73384.8217 - val_loss: 57499.4290 - val_mean_absolute_percentage_error: 57499.4290\n",
      "Epoch 58/100\n",
      "73185/73185 [==============================] - 16s 214us/step - loss: 70959.5627 - mean_absolute_percentage_error: 70959.5627 - val_loss: 74756.7736 - val_mean_absolute_percentage_error: 74756.7736\n",
      "Epoch 59/100\n",
      "73185/73185 [==============================] - 16s 213us/step - loss: 74050.7578 - mean_absolute_percentage_error: 74050.7578 - val_loss: 83979.7247 - val_mean_absolute_percentage_error: 83979.7247\n",
      "Epoch 60/100\n",
      "73185/73185 [==============================] - 16s 213us/step - loss: 73595.4047 - mean_absolute_percentage_error: 73595.4047 - val_loss: 65352.4208 - val_mean_absolute_percentage_error: 65352.4208\n",
      "Epoch 61/100\n",
      "73185/73185 [==============================] - 15s 211us/step - loss: 73932.6425 - mean_absolute_percentage_error: 73932.6425 - val_loss: 67093.5760 - val_mean_absolute_percentage_error: 67093.5760\n",
      "Epoch 62/100\n",
      "73185/73185 [==============================] - 15s 211us/step - loss: 73824.9415 - mean_absolute_percentage_error: 73824.9415 - val_loss: 97635.1258 - val_mean_absolute_percentage_error: 97635.1258\n",
      "Epoch 63/100\n",
      "73185/73185 [==============================] - 16s 212us/step - loss: 73238.7050 - mean_absolute_percentage_error: 73238.7050 - val_loss: 66329.3939 - val_mean_absolute_percentage_error: 66329.3939\n",
      "Epoch 64/100\n",
      "73185/73185 [==============================] - 16s 212us/step - loss: 71972.0366 - mean_absolute_percentage_error: 71972.0366 - val_loss: 51382.6440 - val_mean_absolute_percentage_error: 51382.6440\n",
      "Epoch 65/100\n",
      "73185/73185 [==============================] - 16s 212us/step - loss: 68715.4248 - mean_absolute_percentage_error: 68715.4248 - val_loss: 83887.5295 - val_mean_absolute_percentage_error: 83887.5295\n",
      "Epoch 66/100\n",
      "73185/73185 [==============================] - 15s 211us/step - loss: 69422.0180 - mean_absolute_percentage_error: 69422.0180 - val_loss: 70328.8957 - val_mean_absolute_percentage_error: 70328.8957\n",
      "Epoch 67/100\n",
      "73185/73185 [==============================] - 16s 212us/step - loss: 70268.2656 - mean_absolute_percentage_error: 70268.2656 - val_loss: 85864.2286 - val_mean_absolute_percentage_error: 85864.2286\n",
      "Epoch 68/100\n",
      "73185/73185 [==============================] - 16s 212us/step - loss: 69692.0971 - mean_absolute_percentage_error: 69692.0971 - val_loss: 63615.2444 - val_mean_absolute_percentage_error: 63615.2444\n",
      "Epoch 69/100\n",
      "73185/73185 [==============================] - 15s 212us/step - loss: 71240.0152 - mean_absolute_percentage_error: 71240.0152 - val_loss: 82727.7221 - val_mean_absolute_percentage_error: 82727.7221\n",
      "Epoch 70/100\n",
      "73185/73185 [==============================] - 16s 212us/step - loss: 70035.1911 - mean_absolute_percentage_error: 70035.1911 - val_loss: 71092.8966 - val_mean_absolute_percentage_error: 71092.8966\n",
      "Epoch 71/100\n",
      "73185/73185 [==============================] - 16s 213us/step - loss: 71171.0975 - mean_absolute_percentage_error: 71171.0975 - val_loss: 60215.3691 - val_mean_absolute_percentage_error: 60215.3691\n",
      "Epoch 72/100\n",
      "73185/73185 [==============================] - 16s 213us/step - loss: 70054.0061 - mean_absolute_percentage_error: 70054.0061 - val_loss: 84827.7476 - val_mean_absolute_percentage_error: 84827.7476\n",
      "Epoch 73/100\n",
      "73185/73185 [==============================] - 15s 211us/step - loss: 70402.0413 - mean_absolute_percentage_error: 70402.0413 - val_loss: 67860.1209 - val_mean_absolute_percentage_error: 67860.1209\n",
      "Epoch 74/100\n",
      "73185/73185 [==============================] - 15s 199us/step - loss: 70098.3934 - mean_absolute_percentage_error: 70098.3934 - val_loss: 74515.4638 - val_mean_absolute_percentage_error: 74515.4638\n",
      "Epoch 75/100\n",
      "73185/73185 [==============================] - 15s 203us/step - loss: 70723.3444 - mean_absolute_percentage_error: 70723.3444 - val_loss: 56020.7061 - val_mean_absolute_percentage_error: 56020.7061\n",
      "Epoch 76/100\n",
      "73185/73185 [==============================] - 15s 205us/step - loss: 70949.9630 - mean_absolute_percentage_error: 70949.9630 - val_loss: 69787.9597 - val_mean_absolute_percentage_error: 69787.9597\n",
      "Epoch 77/100\n",
      "73185/73185 [==============================] - 14s 191us/step - loss: 70664.9296 - mean_absolute_percentage_error: 70664.9296 - val_loss: 83353.5864 - val_mean_absolute_percentage_error: 83353.5864\n"
     ]
    },
    {
     "name": "stdout",
     "output_type": "stream",
     "text": [
      "Epoch 78/100\n",
      "73185/73185 [==============================] - 15s 208us/step - loss: 70375.6989 - mean_absolute_percentage_error: 70375.6989 - val_loss: 74180.0553 - val_mean_absolute_percentage_error: 74180.0553\n",
      "Epoch 79/100\n",
      "73185/73185 [==============================] - 16s 212us/step - loss: 70814.4295 - mean_absolute_percentage_error: 70814.4295 - val_loss: 85027.3690 - val_mean_absolute_percentage_error: 85027.3690\n",
      "Epoch 80/100\n",
      "73185/73185 [==============================] - 15s 211us/step - loss: 70454.8263 - mean_absolute_percentage_error: 70454.8263 - val_loss: 86863.8476 - val_mean_absolute_percentage_error: 86863.8476\n",
      "Epoch 81/100\n",
      "73185/73185 [==============================] - 15s 210us/step - loss: 70866.0745 - mean_absolute_percentage_error: 70866.0745 - val_loss: 90682.0947 - val_mean_absolute_percentage_error: 90682.0947\n",
      "Epoch 82/100\n",
      "73185/73185 [==============================] - 15s 210us/step - loss: 69912.6575 - mean_absolute_percentage_error: 69912.6575 - val_loss: 52640.3338 - val_mean_absolute_percentage_error: 52640.3338\n",
      "Epoch 83/100\n",
      "73185/73185 [==============================] - 16s 212us/step - loss: 70539.1420 - mean_absolute_percentage_error: 70539.1420 - val_loss: 73446.2364 - val_mean_absolute_percentage_error: 73446.2364\n",
      "Epoch 84/100\n",
      "73185/73185 [==============================] - 16s 212us/step - loss: 69792.7883 - mean_absolute_percentage_error: 69792.7883 - val_loss: 70524.7690 - val_mean_absolute_percentage_error: 70524.7690\n",
      "Epoch 85/100\n",
      "73185/73185 [==============================] - 16s 213us/step - loss: 68409.2679 - mean_absolute_percentage_error: 68409.2679 - val_loss: 71899.2593 - val_mean_absolute_percentage_error: 71899.2593\n",
      "Epoch 86/100\n",
      "73185/73185 [==============================] - 16s 213us/step - loss: 70721.7637 - mean_absolute_percentage_error: 70721.7637 - val_loss: 71310.7056 - val_mean_absolute_percentage_error: 71310.7056\n",
      "Epoch 87/100\n",
      "73185/73185 [==============================] - 16s 213us/step - loss: 70228.1081 - mean_absolute_percentage_error: 70228.1081 - val_loss: 72461.8812 - val_mean_absolute_percentage_error: 72461.8812\n",
      "Epoch 88/100\n",
      "73185/73185 [==============================] - 15s 211us/step - loss: 68600.9001 - mean_absolute_percentage_error: 68600.9001 - val_loss: 75261.6803 - val_mean_absolute_percentage_error: 75261.6803\n",
      "Epoch 89/100\n",
      "73185/73185 [==============================] - 15s 211us/step - loss: 70094.5149 - mean_absolute_percentage_error: 70094.5149 - val_loss: 61978.9363 - val_mean_absolute_percentage_error: 61978.9363\n",
      "Epoch 90/100\n",
      "73185/73185 [==============================] - 15s 212us/step - loss: 68293.3034 - mean_absolute_percentage_error: 68293.3034 - val_loss: 52865.1689 - val_mean_absolute_percentage_error: 52865.1689\n",
      "Epoch 91/100\n",
      "73185/73185 [==============================] - 16s 214us/step - loss: 66767.7737 - mean_absolute_percentage_error: 66767.7737 - val_loss: 79177.7573 - val_mean_absolute_percentage_error: 79177.7573\n",
      "Epoch 92/100\n",
      "73185/73185 [==============================] - 15s 211us/step - loss: 70571.6620 - mean_absolute_percentage_error: 70571.6620 - val_loss: 94018.4021 - val_mean_absolute_percentage_error: 94018.4021\n",
      "Epoch 93/100\n",
      "73185/73185 [==============================] - 15s 211us/step - loss: 69951.4603 - mean_absolute_percentage_error: 69951.4603 - val_loss: 57747.0817 - val_mean_absolute_percentage_error: 57747.0817\n",
      "Epoch 94/100\n",
      "73185/73185 [==============================] - 16s 212us/step - loss: 70345.4998 - mean_absolute_percentage_error: 70345.4998 - val_loss: 64859.2549 - val_mean_absolute_percentage_error: 64859.2549\n",
      "Epoch 95/100\n",
      "73185/73185 [==============================] - 16s 212us/step - loss: 70635.7272 - mean_absolute_percentage_error: 70635.7272 - val_loss: 90067.0441 - val_mean_absolute_percentage_error: 90067.0441\n",
      "Epoch 96/100\n",
      "73185/73185 [==============================] - 16s 212us/step - loss: 69202.2595 - mean_absolute_percentage_error: 69202.2595 - val_loss: 63398.4961 - val_mean_absolute_percentage_error: 63398.4961\n",
      "Epoch 97/100\n",
      "73185/73185 [==============================] - 16s 212us/step - loss: 69016.9767 - mean_absolute_percentage_error: 69016.9767 - val_loss: 72729.9435 - val_mean_absolute_percentage_error: 72729.9435\n",
      "Epoch 98/100\n",
      "73185/73185 [==============================] - 16s 213us/step - loss: 71753.9803 - mean_absolute_percentage_error: 71753.9803 - val_loss: 66843.0989 - val_mean_absolute_percentage_error: 66843.0989\n",
      "Epoch 99/100\n",
      "73185/73185 [==============================] - 16s 214us/step - loss: 72365.2606 - mean_absolute_percentage_error: 72365.2606 - val_loss: 101087.6113 - val_mean_absolute_percentage_error: 101087.6113\n",
      "Epoch 100/100\n",
      "73185/73185 [==============================] - 15s 211us/step - loss: 72426.1962 - mean_absolute_percentage_error: 72426.1962 - val_loss: 81406.2984 - val_mean_absolute_percentage_error: 81406.2984\n"
     ]
    },
    {
     "data": {
      "text/plain": [
       "<bound method Sequential.evaluate of <keras.models.Sequential object at 0x7f0e9c2dd710>>"
      ]
     },
     "execution_count": 20,
     "metadata": {},
     "output_type": "execute_result"
    }
   ],
   "source": [
    "# use the best:\n",
    "def get_val(dictionary, key):\n",
    "    return dictionary[key][1][key]\n",
    "batch_size = get_val(result_dict, 'batch_size')\n",
    "epochs = get_val(result_dict, 'epochs')\n",
    "optimizer = get_val(result_dict, 'optimizer')\n",
    "activation = get_val(result_dict, 'activation')\n",
    "neurons = get_val(result_dict, 'neurons')\n",
    "hidden_layer = get_val(result_dict, 'hidden_layers')\n",
    "def create_model(optimizer='adam', learn_rate=0.01, momentum=0,\n",
    "                 activation='relu', neurons=1,\n",
    "                 hidden_layers=1):\n",
    "    model = Sequential()\n",
    "    model.add(Dense(neurons, input_dim=2, activation=activation))\n",
    "    # consider putting in dropout?\n",
    "    for i in range(hidden_layers):\n",
    "        model.add(Dense(neurons, activation=activation))\n",
    "    model.add(Dense(60, activation='linear'))\n",
    "    model.compile(loss='mean_absolute_percentage_error', optimizer=optimizer,\n",
    "                  metrics=['mean_absolute_percentage_error'])\n",
    "    return model\n",
    "\n",
    "x = all_dat[['init_enr', 'bu']].as_matrix()\n",
    "y = all_dat.iloc[:,4:]\n",
    "\n",
    "model =  create_model(optimizer=optimizer, activation=activation, neurons=neurons,\n",
    "                     hidden_layers=hidden_layer)\n",
    "print(model)\n",
    "model.fit(x, y, epochs=epochs, batch_size=batch_size, validation_split=0.3)\n",
    "model.evaluate\n"
   ]
  },
  {
   "cell_type": "markdown",
   "metadata": {},
   "source": [
    "## Test the trained model"
   ]
  },
  {
   "cell_type": "code",
   "execution_count": null,
   "metadata": {},
   "outputs": [],
   "source": [
    "testx = x[300]\n",
    "prediction = model.predict(x)\n",
    "iso_list = list(y)"
   ]
  },
  {
   "cell_type": "code",
   "execution_count": null,
   "metadata": {},
   "outputs": [],
   "source": [
    "err = []\n",
    "\n",
    "for indx, val in enumerate(prediction[300]):\n",
    "    err.append((val-np.array(y.iloc[300])[indx]) / np.array(y.iloc[300])[indx])\n",
    "    print(iso_list[indx], '\\t\\t', val, '\\t\\t', np.array(y.iloc[300])[indx])\n",
    "\n",
    "print('\\n\\n\\n')\n",
    "    \n",
    "for indx, val in enumerate(err):\n",
    "    print(iso_list[indx], '\\t', err[indx])"
   ]
  }
 ],
 "metadata": {
  "kernelspec": {
   "display_name": "Python 3",
   "language": "python",
   "name": "python3"
  },
  "language_info": {
   "codemirror_mode": {
    "name": "ipython",
    "version": 3
   },
   "file_extension": ".py",
   "mimetype": "text/x-python",
   "name": "python",
   "nbconvert_exporter": "python",
   "pygments_lexer": "ipython3",
   "version": "3.6.6"
  }
 },
 "nbformat": 4,
 "nbformat_minor": 2
}
