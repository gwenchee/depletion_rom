{
 "cells": [
  {
   "cell_type": "code",
   "execution_count": 14,
   "metadata": {},
   "outputs": [],
   "source": [
    "import numpy as np\n",
    "import matplotlib.pyplot as plt\n",
    "import seaborn as sns\n",
    "import pandas as pd\n",
    "import sklearn\n",
    "import keras.backend as K\n",
    "from keras.models import Sequential\n",
    "from keras.layers import Dense\n",
    "from sklearn.ensemble import RandomForestRegressor\n",
    "from sklearn import linear_model\n",
    "from sklearn import svm\n",
    "import pickle"
   ]
  },
  {
   "cell_type": "markdown",
   "metadata": {},
   "source": [
    "## Finding composition with Enrichment and Burnup\n",
    "Testing time for various methods"
   ]
  },
  {
   "cell_type": "code",
   "execution_count": 15,
   "metadata": {},
   "outputs": [],
   "source": [
    "enr_br = np.array([[3, 40000]])"
   ]
  },
  {
   "cell_type": "markdown",
   "metadata": {},
   "source": [
    "## Pickle and model"
   ]
  },
  {
   "cell_type": "code",
   "execution_count": 16,
   "metadata": {},
   "outputs": [],
   "source": [
    "# load pickled dictionary with\n",
    "# key: isotope\n",
    "# value: trained model\n",
    "dep_dict = pickle.load(open('lin_dep.pkl',\"rb\"))"
   ]
  },
  {
   "cell_type": "code",
   "execution_count": 17,
   "metadata": {},
   "outputs": [
    {
     "name": "stdout",
     "output_type": "stream",
     "text": [
      "CPU times: user 1e+03 ns, sys: 1 µs, total: 2 µs\n",
      "Wall time: 4.29 µs\n",
      "\n",
      "\n"
     ]
    },
    {
     "data": {
      "text/plain": [
       "{'zr-95': 1.1484601702345132e-06,\n",
       " 'zr-93': 0.0009430319628774451,\n",
       " 'ra-226': 8.128166743868014e-14,\n",
       " 'ru-103': 7.082124825317936e-08,\n",
       " 'ru-106': 9.224997287038025e-05,\n",
       " 'sb-124': 1.0174619907388335e-09,\n",
       " 'sb-125': 1.0266742304882404e-05,\n",
       " 'pu-238': 0.000312965376732103,\n",
       " 'pu-239': 0.00739254899490264,\n",
       " 'np-237': 0.0005838254812632688,\n",
       " 'nb-95': 1.35320028310323e-06,\n",
       " 'pa-231': 6.353148416196634e-10,\n",
       " 'pd-107': 0.00033052533120332857,\n",
       " 'pm-147': 0.0001357246480633197,\n",
       " 'pu-240': 0.0029328336587442377,\n",
       " 'pu-241': 0.0018049883785639684,\n",
       " 'pu-244': 7.250805995100164e-08,\n",
       " 'pu-242': 0.0007905655177541726,\n",
       " 'i-129': 0.00020664612676049988,\n",
       " 'h-3': 6.660353045641339e-08,\n",
       " 'kr-85': 2.7943487738310585e-05,\n",
       " 'nb-94': 1.923656976006179e-09,\n",
       " 'cm-248': 1.14698832624395e-09,\n",
       " 'cs-134': 0.00012172554020570855,\n",
       " 'cs-135': 0.0005546829719198416,\n",
       " 'cm-245': 7.561112809466447e-06,\n",
       " 'cm-244': 9.684066079661215e-05,\n",
       " 'cm-246': 8.1009529359867e-07,\n",
       " 'cm-247': 1.368632630368019e-08,\n",
       " 'eu-152': 1.8738705313217622e-08,\n",
       " 'cs-137': 0.001439804077247215,\n",
       " 'eu-154': 3.525337279487115e-05,\n",
       " 'eu-155': 9.941382238200136e-06,\n",
       " 'am-241': 0.00018458472587899838,\n",
       " 'am-242m': 1.573866531211245e-06,\n",
       " 'am-243': 0.000224510034562955,\n",
       " 'cf-251': 3.093582734961729e-12,\n",
       " 'cf-249': 1.0744568201667491e-11,\n",
       " 'ag-108m': 3.1676663959423287e-10,\n",
       " 'ag-110m': 4.588556761401413e-07,\n",
       " 'ac-227': 2.8377756437987292e-14,\n",
       " 'cm-243': 1.0103325238917895e-06,\n",
       " 'cm-242': 7.418285137597239e-06,\n",
       " 'c-14': 1.2122648662601864e-07,\n",
       " 'ce-144': 0.00011736211412116939,\n",
       " 'u-234': 0.00014309893559019676,\n",
       " 'u-235': 0.007240830542169616,\n",
       " 'u-236': 0.0041660521391903155,\n",
       " 'y-90': 1.4417398650426437e-07,\n",
       " 'u-238': 0.9683087468872559,\n",
       " 'th-229': 2.9985654181226855e-12,\n",
       " 'tc-99': 0.0009457450130558766,\n",
       " 'sm-151': 1.5264272531055427e-05,\n",
       " 'se-79': 5.573335267178578e-06,\n",
       " 'sr-90': 0.0005684007005800744,\n",
       " 'sn-126': 2.8321441912616467e-05,\n",
       " 'th-232': 4.8082853939953445e-09,\n",
       " 'th-230': 2.3012900510186668e-09,\n",
       " 'u-232': 1.7148355360103907e-09,\n",
       " 'u-233': 3.6651334631865547e-09}"
      ]
     },
     "execution_count": 17,
     "metadata": {},
     "output_type": "execute_result"
    }
   ],
   "source": [
    "# get time for rom depletion for one assembly\n",
    "# given enrichment and burnup value,\n",
    "# predict UNF composition\n",
    "%time\n",
    "\n",
    "def get_a(f):\n",
    "    z = ''\n",
    "    for i in f:\n",
    "        if i.isdigit():\n",
    "            z += i\n",
    "    return int(z)\n",
    "\n",
    "depleted_composition_rom = {}\n",
    "\n",
    "isos = [x for x in dep_dict.keys() if 'alg' not in x]\n",
    "\n",
    "for iso in isos:\n",
    "    if any(i.isdigit() for i in dep_dict[iso + '_alg']):\n",
    "        deg = get_a(dep_dict[iso + '_alg'])\n",
    "        poly = sklearn.preprocessing.PolynomialFeatures(degree=deg)\n",
    "        depleted_composition_rom[iso] = dep_dict[iso].predict(poly.fit_transform(enr_br))[0]\n",
    "    else:\n",
    "        depleted_composition_rom[iso] = dep_dict[iso].predict(enr_br)[0]\n",
    "\n",
    "print('\\n')\n",
    "depleted_composition_rom\n",
    "\n"
   ]
  },
  {
   "cell_type": "markdown",
   "metadata": {},
   "source": [
    "## Looking up from db"
   ]
  },
  {
   "cell_type": "code",
   "execution_count": 18,
   "metadata": {},
   "outputs": [],
   "source": [
    "\n",
    "df = pd.read_csv('./curated.csv', index_col=0)"
   ]
  },
  {
   "cell_type": "code",
   "execution_count": 19,
   "metadata": {},
   "outputs": [
    {
     "name": "stdout",
     "output_type": "stream",
     "text": [
      "CPU times: user 2 µs, sys: 1 µs, total: 3 µs\n",
      "Wall time: 3.81 µs\n",
      "\n",
      "\n",
      "{'zr-95': 8.419315164246238e-07, 'zr-93': 0.0009609453127874797, 'ra-226': 1.5648069648472898e-13, 'ru-103': 5.234720110751048e-08, 'ru-106': 6.133016596891877e-05, 'sb-124': 1.1752803572644362e-09, 'sb-125': 8.052678395268684e-06, 'pu-238': 0.00044532550982216717, 'pu-239': 0.010483041417679714, 'np-237': 0.0006387829924524144, 'nb-95': 9.929045343839941e-07, 'pa-231': 9.226876169647597e-10, 'pd-107': 0.0003449923747650625, 'pm-147': 9.583790461631682e-05, 'pu-240': 0.0032450850918009947, 'pu-241': 0.0018377200037567013, 'pu-244': 1.1613758098716321e-07, 'pu-242': 0.0006827076275994006, 'i-129': 0.00021439897680375879, 'h-3': 6.417506985546068e-09, 'kr-85': 2.442767857833397e-05, 'nb-94': 2.0475333937856238e-09, 'cm-248': 1.4156604316092271e-08, 'cs-134': 0.00010709894511074417, 'cs-135': 0.0007524624352977171, 'cm-245': 1.9413393608700712e-05, 'cm-244': 0.00015320506773508578, 'cm-246': 3.314676400249005e-06, 'cm-247': 9.531724669993231e-08, 'eu-152': 8.519422194005966e-08, 'cs-137': 0.001368486185370309, 'eu-154': 4.312325404075927e-05, 'eu-155': 1.0920908438228807e-05, 'am-241': 0.0002749099929042946, 'am-242m': 3.920368882712648e-06, 'am-243': 0.00024961940174143284, 'cf-251': 6.91013694277058e-11, 'cf-249': 1.8538785494438413e-10, 'ag-108m': 4.575785116121211e-10, 'ag-110m': 4.3624846827097e-07, 'ac-227': 5.5555423241829383e-14, 'cm-243': 1.7896366068711948e-06, 'cm-242': 1.0587275152714666e-05, 'c-14': 1.6397255156959958e-07, 'ce-144': 6.857306423882686e-05, 'u-234': 0.0001485333574338544, 'u-235': 0.010057596276658469, 'u-236': 0.0038559673350727374, 'y-90': 1.2824721476001294e-07, 'u-238': 0.962363416226354, 'th-229': 1.1414511941213685e-11, 'tc-99': 0.0008991897778680774, 'sm-151': 2.1154275721142262e-05, 'se-79': 5.4335610474676314e-06, 'sr-90': 0.0005055825687509657, 'sn-126': 3.0099893109685712e-05, 'th-232': 5.259167227510876e-09, 'th-230': 3.4027169370114924e-09, 'u-232': 3.11782623762813e-09, 'u-233': 4.863874802216964e-09}\n"
     ]
    },
    {
     "name": "stderr",
     "output_type": "stream",
     "text": [
      "/home/teddy/anaconda3/lib/python3.6/site-packages/ipykernel_launcher.py:5: FutureWarning: 'argmin' is deprecated, use 'idxmin' instead. The behavior of 'argmin'\n",
      "will be corrected to return the positional minimum in the future.\n",
      "Use 'series.values.argmin' to get the position of the minimum now.\n",
      "  \"\"\"\n"
     ]
    }
   ],
   "source": [
    "%time\n",
    "# get time for `look-up' method for one assembly\n",
    "# find closest assembly to this burnup and enrichment\n",
    "df['err'] = abs(df['bu'] - enr_br[0][1]) + abs(df['init_enr'] - enr_br[0][0]) * 10000\n",
    "minimum_err = df['err'].argmin()\n",
    "df = df.drop(columns='err')\n",
    "average_assem = df.loc[minimum_err]\n",
    "print('\\n')\n",
    "depleted_composition_lookup = average_assem.iloc[5:].to_dict()\n",
    "print(depleted_composition_lookup)"
   ]
  },
  {
   "cell_type": "code",
   "execution_count": null,
   "metadata": {},
   "outputs": [],
   "source": []
  }
 ],
 "metadata": {
  "kernelspec": {
   "display_name": "Python 3",
   "language": "python",
   "name": "python3"
  },
  "language_info": {
   "codemirror_mode": {
    "name": "ipython",
    "version": 3
   },
   "file_extension": ".py",
   "mimetype": "text/x-python",
   "name": "python",
   "nbconvert_exporter": "python",
   "pygments_lexer": "ipython3",
   "version": "3.6.6"
  }
 },
 "nbformat": 4,
 "nbformat_minor": 2
}
