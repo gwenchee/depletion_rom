{
 "cells": [
  {
   "cell_type": "code",
   "execution_count": 20,
   "metadata": {},
   "outputs": [],
   "source": [
    "import numpy as np\n",
    "import matplotlib.pyplot as plt\n",
    "import pandas as pd\n",
    "from keras.models import Sequential\n",
    "from keras.layers import Dense\n",
    "import pickle\n",
    "from sklearn.model_selection import KFold\n",
    "from keras.layers import Dropout\n",
    "from sklearn.preprocessing import MinMaxScaler\n"
   ]
  },
  {
   "cell_type": "code",
   "execution_count": 21,
   "metadata": {},
   "outputs": [],
   "source": [
    "score_dict = pickle.load(open('./ann.pkl', 'rb'))"
   ]
  },
  {
   "cell_type": "code",
   "execution_count": 8,
   "metadata": {},
   "outputs": [
    {
     "name": "stdout",
     "output_type": "stream",
     "text": [
      "{'hidden_layers': 3, 'node_per_hidden_layer': 16, 'dropout_rate': 0, 'output_activation': 'linear', 'epochs': 150, 'batch_size': 50} 0.193495592836\n"
     ]
    }
   ],
   "source": [
    "min_key = min(score_dict.keys())\n",
    "print(score_dict[min_key], min_key)\n"
   ]
  },
  {
   "cell_type": "code",
   "execution_count": 6,
   "metadata": {},
   "outputs": [
    {
     "name": "stdout",
     "output_type": "stream",
     "text": [
      "dict_keys([0.815482263572894, 0.82589504771939293, 0.99033627662622259, 1.0241746861570311, 1.5335878181540539, 1.1215826631670971, 1.4135722424826536, 0.22758556922002482, 0.45281195874169278, 0.47109967134115499, 1.2774066923866469, 0.47164556915029948, 0.77693198801210539, 0.2904537894566549, 0.80474542614480349, 0.28807902837419536, 0.57700241775895622, 0.51257389584253199, 0.25337276743717629, 0.22183117414061271, 0.32133185324676666, 0.22205238520020912, 0.44422973735670351, 0.8232594063294072, 1.3106836403613529, 0.94989107369229819, 1.0930791110073232, 1.2586679814031829, 1.4618233082748082, 1.5511957969223946, 0.28559422190839939, 0.25877813797172838, 0.50179921735527955, 1.4908914095169472, 1.5012036434361713, 0.73617382817646349, 0.28307600482374934, 0.24984546478377323, 0.38404881509201316, 0.2850617280716089, 1.2927344531981106, 0.43271126235057217, 0.22521877856651459, 0.25062829468020259, 0.33697351049912033, 0.80973321125920716, 0.53205956301717594, 0.86812086865128435, 0.23043845913448394, 1.2953244789353342, 1.2556512253754399, 1.544690736672681, 1.6957371997434427, 1.4571319728694696, 1.3082051870102833, 0.22140058262886173, 1.178875044561968, 0.345489930419006, 1.8103134142112396, 1.1747644061981279, 0.19349559283587905, 0.25211845108224867, 0.86009123700389267, 0.35374729450325532, 1.5402214512054184, 1.5115743083484927, 0.28823259278270175, 0.75882904764644055, 0.70027586842039324, 0.24432107650970816, 1.2187433439852895, 0.90464454580075238])\n"
     ]
    }
   ],
   "source": [
    "print(score_dict.keys())"
   ]
  },
  {
   "cell_type": "code",
   "execution_count": null,
   "metadata": {},
   "outputs": [],
   "source": [
    "model_dict = pickle.load(open('./ann_model.pkl', 'rb'))\n",
    "\n",
    "model = model_dict['model']\n",
    "xscaler = model_dict['xscaler']\n",
    "yscaler = model_dict['yscaler']\n",
    "iso_list = model_dict['iso_list']\n"
   ]
  },
  {
   "cell_type": "code",
   "execution_count": 23,
   "metadata": {},
   "outputs": [
    {
     "name": "stdout",
     "output_type": "stream",
     "text": [
      "zr-95 0.000116144\n",
      "zr-93 0.0798246\n",
      "ra-226 5.58349e-12\n",
      "ru-103 6.69383e-06\n",
      "ru-106 0.00789335\n",
      "sb-124 7.38586e-08\n",
      "sb-125 0.00088854\n",
      "pu-238 0.0202674\n",
      "pu-239 0.679545\n",
      "np-237 0.0492314\n",
      "nb-95 0.000141315\n",
      "pa-231 5.30558e-08\n",
      "pd-107 0.0239603\n",
      "pm-147 0.0134687\n",
      "pu-240 0.23605\n",
      "pu-241 0.152071\n",
      "pu-244 3.75657e-06\n",
      "pu-242 0.0516093\n",
      "i-129 0.0162684\n",
      "h-3 5.28178e-06\n",
      "kr-85 0.00259\n",
      "nb-94 1.48297e-07\n",
      "cm-248 9.38956e-09\n",
      "cs-134 0.00937317\n",
      "cs-135 0.047954\n",
      "cm-245 0.000319108\n",
      "cm-244 0.00474868\n",
      "cm-246 2.69582e-05\n",
      "cm-247 3.21239e-07\n",
      "eu-152 1.94574e-06\n",
      "cs-137 0.120308\n",
      "eu-154 0.00267388\n",
      "eu-155 0.000743458\n",
      "am-241 0.0141996\n",
      "am-242m 0.00010906\n",
      "am-243 0.0129268\n",
      "cf-251 4.32961e-11\n",
      "cf-249 2.66433e-10\n",
      "ag-108m 1.96684e-08\n",
      "ag-110m 3.05533e-05\n",
      "ac-227 2.12814e-12\n",
      "cm-243 4.73566e-05\n",
      "cm-242 0.000425685\n",
      "c-14 1.01193e-05\n",
      "ce-144 0.0122561\n",
      "u-234 0.0173323\n",
      "u-235 1.05879\n",
      "u-236 0.416588\n",
      "y-90 1.27889e-05\n",
      "u-238 93.8603\n",
      "th-229 1.26647e-10\n",
      "tc-99 0.0796216\n",
      "sm-151 0.00144083\n",
      "se-79 0.000469561\n",
      "sr-90 0.0505769\n",
      "sn-126 0.0021881\n",
      "th-232 4.49347e-07\n",
      "th-230 2.15049e-07\n",
      "u-232 1.09193e-07\n",
      "u-233 3.8251e-07\n",
      "other 2.99426\n"
     ]
    }
   ],
   "source": [
    "x = xscaler.transform([[3.0, 34000]])\n",
    "y = yscaler.inverse_transform(model.predict(x))[0]\n",
    "for indx, i in enumerate(y):\n",
    "    print(iso_list[indx], i)"
   ]
  },
  {
   "cell_type": "code",
   "execution_count": null,
   "metadata": {},
   "outputs": [],
   "source": []
  }
 ],
 "metadata": {
  "kernelspec": {
   "display_name": "Python 3",
   "language": "python",
   "name": "python3"
  },
  "language_info": {
   "codemirror_mode": {
    "name": "ipython",
    "version": 3
   },
   "file_extension": ".py",
   "mimetype": "text/x-python",
   "name": "python",
   "nbconvert_exporter": "python",
   "pygments_lexer": "ipython3",
   "version": "3.6.6"
  }
 },
 "nbformat": 4,
 "nbformat_minor": 2
}
