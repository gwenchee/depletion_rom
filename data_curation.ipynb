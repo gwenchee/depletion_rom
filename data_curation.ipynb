{
 "cells": [
  {
   "cell_type": "code",
   "execution_count": 1,
   "metadata": {},
   "outputs": [
    {
     "name": "stderr",
     "output_type": "stream",
     "text": [
      "Using TensorFlow backend.\n"
     ]
    }
   ],
   "source": [
    "import numpy as np\n",
    "import matplotlib.pyplot as plt\n",
    "import seaborn as sns\n",
    "import pandas as pd\n",
    "import sklearn\n",
    "import keras.backend as K\n",
    "from keras.models import Sequential\n",
    "from keras.layers import Dense\n",
    "from sklearn.ensemble import RandomForestRegressor\n",
    "from sklearn import linear_model\n",
    "from sklearn import svm\n",
    "import pickle"
   ]
  },
  {
   "cell_type": "code",
   "execution_count": 2,
   "metadata": {},
   "outputs": [],
   "source": [
    "# convert raw .dat file to  csv using curate_db.py\n",
    "# file has to exist in db/udb_1yr.dat\n",
    "# !python curate_db.py "
   ]
  },
  {
   "cell_type": "code",
   "execution_count": 3,
   "metadata": {},
   "outputs": [],
   "source": [
    "all_dat = pd.read_csv('./curated.csv', index_col=0)\n",
    "\n",
    "# sift out pwrs\n",
    "all_dat = all_dat.loc[all_dat['reactor_type'] == 'PWR']  \n",
    "all_dat = sklearn.utils.shuffle(all_dat)\n",
    "# only get assemblies with enrichment bigger than 1.5 and bunrup higher than 10,000\n",
    "all_dat = all_dat.loc[(all_dat['init_enr'] > 1.5) & (all_dat['bu'] > 10000)]\n",
    "\n",
    "# separate training and testing set\n",
    "row_num = all_dat.shape[0]\n",
    "cutoff = int(row_num * 0.6)\n",
    "train_dat = all_dat.iloc[:cutoff, :]\n",
    "test_dat = all_dat.iloc[cutoff:, :]\n"
   ]
  },
  {
   "cell_type": "markdown",
   "metadata": {},
   "source": [
    "## Visualize Data"
   ]
  },
  {
   "cell_type": "code",
   "execution_count": null,
   "metadata": {},
   "outputs": [],
   "source": [
    "# visualize \n",
    "plt.scatter(all_dat['init_enr'], all_dat['bu'])\n",
    "plt.xlabel('Enrichment [%]')\n",
    "plt.ylabel('Burnup [MWth/MTHM]')\n",
    "plt.title('Burnup and enrichment distribution')\n",
    "plt.show()"
   ]
  },
  {
   "cell_type": "code",
   "execution_count": null,
   "metadata": {},
   "outputs": [],
   "source": [
    "## visualize how each isotope is correlated with burnup / enrichment\n",
    "def plot_side_by_side(x1, y1, x2, y2, xlabel1, xlabel2):\n",
    "    \n",
    "    plt.subplot(1, 2, 1)\n",
    "    plt.scatter(x1, y1)\n",
    "    plt.xlabel(xlabel1)\n",
    "    plt.ylabel('composition')\n",
    "\n",
    "    plt.subplot(1, 2, 2)\n",
    "    plt.scatter(x2, y2)\n",
    "    plt.xlabel(xlabel2)\n",
    "    plt.ylabel('composition')\n",
    "    \n",
    "    plt.tight_layout()\n",
    "    plt.show()\n",
    "    plt.close()\n",
    "\n",
    "    plt.scatter(x1,x2, c=y1)\n",
    "    plt.xlabel(xlabel1)\n",
    "    plt.ylabel(xlabel2)\n",
    "    plt.tight_layout()\n",
    "    plt.show()\n",
    "    plt.close()\n",
    "    \n",
    "    \n",
    "# show two plots (subfigs) with x = [burnup, enrichment] and y = isotope composition\n",
    "x1 = list(train_dat['init_enr'])\n",
    "x2 = list(train_dat['bu'])        \n",
    "for key, val in category.items():\n",
    "    print('\\n\\n')\n",
    "    print(key)\n",
    "    for iso in val:\n",
    "        y = list(train_dat[iso])\n",
    "        print(iso)\n",
    "        plot_side_by_side(x1, y, x2, y, 'Enrichment', 'Burnup [MWth/T]')"
   ]
  },
  {
   "cell_type": "code",
   "execution_count": null,
   "metadata": {},
   "outputs": [],
   "source": [
    "# see cf-251 distribution\n",
    "print(max(all_dat['cf-251']))\n",
    "print(min(all_dat['cf-251']))\n",
    "fig = plt.figure()\n",
    "ax = plt.gca()\n",
    "ax.scatter(list(all_dat['bu']), all_dat['cf-251'])\n",
    "ax.set_yscale('log')\n",
    "plt.ylim(1e-19, 1e-9)\n",
    "plt.show()\n",
    "plt.close()"
   ]
  }
 ],
 "metadata": {
  "kernelspec": {
   "display_name": "Python 3",
   "language": "python",
   "name": "python3"
  },
  "language_info": {
   "codemirror_mode": {
    "name": "ipython",
    "version": 3
   },
   "file_extension": ".py",
   "mimetype": "text/x-python",
   "name": "python",
   "nbconvert_exporter": "python",
   "pygments_lexer": "ipython3",
   "version": "3.6.6"
  }
 },
 "nbformat": 4,
 "nbformat_minor": 2
}
