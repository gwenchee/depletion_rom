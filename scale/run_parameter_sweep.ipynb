{
 "cells": [
  {
   "cell_type": "code",
   "execution_count": 1,
   "metadata": {},
   "outputs": [
    {
     "data": {
      "text/plain": [
       "False"
      ]
     },
     "execution_count": 1,
     "metadata": {},
     "output_type": "execute_result"
    }
   ],
   "source": [
    "import numpy as np\n",
    "import pandas as pd\n",
    "import pickle\n",
    "import matplotlib.pyplot as plt\n",
    "import scale_df_analysis as sda\n",
    "import sys\n",
    "os = sys.platform\n",
    "if 'win' in os:\n",
    "    windows=True\n",
    "else:\n",
    "    windows=False\n",
    "windows"
   ]
  },
  {
   "cell_type": "markdown",
   "metadata": {},
   "source": [
    "# BU vs Pu for varying enrichments"
   ]
  },
  {
   "cell_type": "code",
   "execution_count": null,
   "metadata": {
    "scrolled": true
   },
   "outputs": [
    {
     "name": "stdout",
     "output_type": "stream",
     "text": [
      "Running: ./output/2.000000_0.000000.inp\n",
      "/home/teddy/github/depletion_rom/scale/output/2.000000_0.000000.inp\n",
      "('/home/teddy/Desktop/scale/SCALE-6.2.2/bin/scalerte', '/home/teddy/github/depletion_rom/scale/output/2.000000_0.000000.inp')\n",
      "Running: ./output/2.000000_351.758794.inp\n",
      "/home/teddy/github/depletion_rom/scale/output/2.000000_351.758794.inp\n",
      "('/home/teddy/Desktop/scale/SCALE-6.2.2/bin/scalerte', '/home/teddy/github/depletion_rom/scale/output/2.000000_351.758794.inp')\n",
      "Running: ./output/2.000000_703.517588.inp\n",
      "/home/teddy/github/depletion_rom/scale/output/2.000000_703.517588.inp\n",
      "('/home/teddy/Desktop/scale/SCALE-6.2.2/bin/scalerte', '/home/teddy/github/depletion_rom/scale/output/2.000000_703.517588.inp')\n"
     ]
    }
   ],
   "source": [
    "# generate and run SCALE for varying enrichment\n",
    "! rm -rf ./output\n",
    "! mkdir output\n",
    "for enr in np.linspace(start=2.0, stop=5.0, num=200):\n",
    "    for bu in np.linspace(start=0, stop=70000, num=200):\n",
    "        filename = './output/%f_%f' %(enr, bu)\n",
    "        sda.create_scale_input(filename+'.inp', enr, bu)\n",
    "        sda.run_scale(filename+'.inp', windows=windows)\n"
   ]
  },
  {
   "cell_type": "code",
   "execution_count": null,
   "metadata": {},
   "outputs": [],
   "source": [
    "# read all output files to database\n",
    "import pandas as pd\n",
    "from os import listdir\n",
    "from os.path import isfile, join\n",
    "onlyfiles = [f for f in listdir('./output') if isfile(join('./output', f))]\n",
    "outfiles = [f for f in onlyfiles if '.out' in f]\n",
    "\n",
    "tot_dict = {}\n",
    "for indx,file in enumerate(outfiles):\n",
    "    n = file.replace('.out', '')\n",
    "    enr = float(n.split('_')[0])\n",
    "    bu = float(n.split('_')[1])\n",
    "    print(enr, bu)\n",
    "    scale_dict = {'init_enr': enr,\n",
    "                  'bu': bu}\n",
    "    scale_dict.update(sda.read_scale_out('./output/'+file, after_decay=False))\n",
    "    tot_dict[indx] = scale_dict\n",
    "    \n",
    "df = pd.DataFrame.from_dict(tot_dict, orient='index')\n",
    "df.to_csv('all.csv')"
   ]
  },
  {
   "cell_type": "code",
   "execution_count": null,
   "metadata": {},
   "outputs": [],
   "source": []
  }
 ],
 "metadata": {
  "kernelspec": {
   "display_name": "Python 3",
   "language": "python",
   "name": "python3"
  },
  "language_info": {
   "codemirror_mode": {
    "name": "ipython",
    "version": 3
   },
   "file_extension": ".py",
   "mimetype": "text/x-python",
   "name": "python",
   "nbconvert_exporter": "python",
   "pygments_lexer": "ipython3",
   "version": "3.6.6"
  }
 },
 "nbformat": 4,
 "nbformat_minor": 2
}
