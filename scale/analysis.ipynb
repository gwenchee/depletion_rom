{
 "cells": [
  {
   "cell_type": "code",
   "execution_count": 1,
   "metadata": {},
   "outputs": [],
   "source": [
    "import numpy as np\n",
    "import pandas as pd\n",
    "import pickle\n",
    "import matplotlib.pyplot as plt\n",
    "import scale_df_analysis as sda\n",
    "import sys\n",
    "os = sys.platform\n",
    "if 'win' in os:\n",
    "    windows=True\n",
    "else:\n",
    "    windows=False"
   ]
  },
  {
   "cell_type": "markdown",
   "metadata": {},
   "source": [
    "# BU vs Pu for varying enrichments"
   ]
  },
  {
   "cell_type": "code",
   "execution_count": null,
   "metadata": {},
   "outputs": [],
   "source": [
    "# generate and run SCALE for varying enrichment\n",
    "for enr in [2.8, 3.5, 4.2, 4.9]:\n",
    "    for bu in np.linspace(start=0, stop=70000, num=100):\n",
    "        filename = './output/%f_%f' %(enr, bu)\n",
    "        sda.create_scale_input(filename+'.inp', enr, bu)\n",
    "        sda.run_scale(filename+'.inp', windows=windows)\n",
    "            \n"
   ]
  }
 ],
 "metadata": {
  "kernelspec": {
   "display_name": "Python 3",
   "language": "python",
   "name": "python3"
  },
  "language_info": {
   "codemirror_mode": {
    "name": "ipython",
    "version": 3
   },
   "file_extension": ".py",
   "mimetype": "text/x-python",
   "name": "python",
   "nbconvert_exporter": "python",
   "pygments_lexer": "ipython3",
   "version": "3.7.1"
  }
 },
 "nbformat": 4,
 "nbformat_minor": 2
}
