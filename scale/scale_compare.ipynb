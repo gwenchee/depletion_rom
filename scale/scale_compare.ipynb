{
 "cells": [
  {
   "cell_type": "code",
   "execution_count": 1,
   "metadata": {},
   "outputs": [],
   "source": [
    "import numpy as np\n",
    "import pandas as pd\n",
    "import pickle\n",
    "import matplotlib.pyplot as plt\n",
    "import scale_df_analysis as sda\n",
    "import sys\n",
    "os = sys.platform\n",
    "if 'win' in os:\n",
    "    windows=True\n",
    "else:\n",
    "    windows=False"
   ]
  },
  {
   "cell_type": "code",
   "execution_count": 4,
   "metadata": {},
   "outputs": [],
   "source": [
    "df = pd.read_csv('curated.csv', index_col=0)"
   ]
  },
  {
   "cell_type": "code",
   "execution_count": 5,
   "metadata": {},
   "outputs": [
    {
     "data": {
      "image/png": "[encoded data removed]",
      "text/plain": [
       "<Figure size 432x288 with 1 Axes>"
      ]
     },
     "metadata": {
      "needs_background": "light"
     },
     "output_type": "display_data"
    },
    {
     "name": "stdout",
     "output_type": "stream",
     "text": [
      "244896\n",
      "105117\n",
      "104551\n"
     ]
    }
   ],
   "source": [
    "plt.scatter(df['init_enr'], df['bu'])\n",
    "plt.show()\n",
    "print(len(df))\n",
    "df = df.loc[df['reactor_type'] == 'PWR']\n",
    "print(len(df))\n",
    "df = df.loc[(df['init_enr'] > 1.5) & (df['bu'] > 10000)]\n",
    "print(len(df))"
   ]
  },
  {
   "cell_type": "code",
   "execution_count": 6,
   "metadata": {},
   "outputs": [
    {
     "data": {
      "text/html": [
       "<div>\n",
       "<style scoped>\n",
       "    .dataframe tbody tr th:only-of-type {\n",
       "        vertical-align: middle;\n",
       "    }\n",
       "\n",
       "    .dataframe tbody tr th {\n",
       "        vertical-align: top;\n",
       "    }\n",
       "\n",
       "    .dataframe thead th {\n",
       "        text-align: right;\n",
       "    }\n",
       "</style>\n",
       "<table border=\"1\" class=\"dataframe\">\n",
       "  <thead>\n",
       "    <tr style=\"text-align: right;\">\n",
       "      <th></th>\n",
       "      <th>reactor_type</th>\n",
       "      <th>total_mass</th>\n",
       "      <th>evaluation_date</th>\n",
       "      <th>init_enr</th>\n",
       "      <th>bu</th>\n",
       "      <th>zr-95</th>\n",
       "      <th>zr-93</th>\n",
       "      <th>ra-226</th>\n",
       "      <th>ru-103</th>\n",
       "      <th>ru-106</th>\n",
       "      <th>...</th>\n",
       "      <th>tc-99</th>\n",
       "      <th>sm-151</th>\n",
       "      <th>se-79</th>\n",
       "      <th>sr-90</th>\n",
       "      <th>sn-126</th>\n",
       "      <th>th-232</th>\n",
       "      <th>th-230</th>\n",
       "      <th>u-232</th>\n",
       "      <th>u-233</th>\n",
       "      <th>other</th>\n",
       "    </tr>\n",
       "  </thead>\n",
       "  <tbody>\n",
       "    <tr>\n",
       "      <th>163647</th>\n",
       "      <td>PWR</td>\n",
       "      <td>464.84799</td>\n",
       "      <td>1992-03-08</td>\n",
       "      <td>3.8023</td>\n",
       "      <td>41919.101</td>\n",
       "      <td>0.000169</td>\n",
       "      <td>0.096829</td>\n",
       "      <td>3.190784e-12</td>\n",
       "      <td>0.000010</td>\n",
       "      <td>0.011643</td>\n",
       "      <td>...</td>\n",
       "      <td>0.096011</td>\n",
       "      <td>0.001785</td>\n",
       "      <td>0.000577</td>\n",
       "      <td>0.062751</td>\n",
       "      <td>0.002731</td>\n",
       "      <td>5.318036e-07</td>\n",
       "      <td>1.740267e-07</td>\n",
       "      <td>1.445304e-07</td>\n",
       "      <td>4.668025e-07</td>\n",
       "      <td>3.743975</td>\n",
       "    </tr>\n",
       "    <tr>\n",
       "      <th>163648</th>\n",
       "      <td>PWR</td>\n",
       "      <td>465.51000</td>\n",
       "      <td>1992-03-08</td>\n",
       "      <td>3.8006</td>\n",
       "      <td>38000.400</td>\n",
       "      <td>0.000156</td>\n",
       "      <td>0.088901</td>\n",
       "      <td>3.398129e-12</td>\n",
       "      <td>0.000009</td>\n",
       "      <td>0.010098</td>\n",
       "      <td>...</td>\n",
       "      <td>0.088417</td>\n",
       "      <td>0.001701</td>\n",
       "      <td>0.000531</td>\n",
       "      <td>0.058238</td>\n",
       "      <td>0.002428</td>\n",
       "      <td>5.080243e-07</td>\n",
       "      <td>1.866053e-07</td>\n",
       "      <td>1.202960e-07</td>\n",
       "      <td>4.592145e-07</td>\n",
       "      <td>3.394692</td>\n",
       "    </tr>\n",
       "    <tr>\n",
       "      <th>163649</th>\n",
       "      <td>PWR</td>\n",
       "      <td>466.22299</td>\n",
       "      <td>1993-09-25</td>\n",
       "      <td>3.8008</td>\n",
       "      <td>43271.898</td>\n",
       "      <td>0.000116</td>\n",
       "      <td>0.099510</td>\n",
       "      <td>6.269906e-12</td>\n",
       "      <td>0.000007</td>\n",
       "      <td>0.009283</td>\n",
       "      <td>...</td>\n",
       "      <td>0.098385</td>\n",
       "      <td>0.001771</td>\n",
       "      <td>0.000592</td>\n",
       "      <td>0.062967</td>\n",
       "      <td>0.002836</td>\n",
       "      <td>5.524881e-07</td>\n",
       "      <td>2.374266e-07</td>\n",
       "      <td>1.902208e-07</td>\n",
       "      <td>4.809913e-07</td>\n",
       "      <td>3.864627</td>\n",
       "    </tr>\n",
       "    <tr>\n",
       "      <th>163650</th>\n",
       "      <td>PWR</td>\n",
       "      <td>464.98098</td>\n",
       "      <td>1992-03-08</td>\n",
       "      <td>3.8174</td>\n",
       "      <td>37646.199</td>\n",
       "      <td>0.000155</td>\n",
       "      <td>0.088220</td>\n",
       "      <td>3.436438e-12</td>\n",
       "      <td>0.000008</td>\n",
       "      <td>0.009938</td>\n",
       "      <td>...</td>\n",
       "      <td>0.087745</td>\n",
       "      <td>0.001696</td>\n",
       "      <td>0.000527</td>\n",
       "      <td>0.057896</td>\n",
       "      <td>0.002397</td>\n",
       "      <td>5.073165e-07</td>\n",
       "      <td>1.888501e-07</td>\n",
       "      <td>1.182436e-07</td>\n",
       "      <td>4.607631e-07</td>\n",
       "      <td>3.363233</td>\n",
       "    </tr>\n",
       "    <tr>\n",
       "      <th>163651</th>\n",
       "      <td>PWR</td>\n",
       "      <td>464.53201</td>\n",
       "      <td>1992-03-08</td>\n",
       "      <td>3.8019</td>\n",
       "      <td>40967.101</td>\n",
       "      <td>0.000166</td>\n",
       "      <td>0.094918</td>\n",
       "      <td>3.240070e-12</td>\n",
       "      <td>0.000009</td>\n",
       "      <td>0.011262</td>\n",
       "      <td>...</td>\n",
       "      <td>0.094191</td>\n",
       "      <td>0.001765</td>\n",
       "      <td>0.000566</td>\n",
       "      <td>0.061672</td>\n",
       "      <td>0.002657</td>\n",
       "      <td>5.263706e-07</td>\n",
       "      <td>1.770091e-07</td>\n",
       "      <td>1.385161e-07</td>\n",
       "      <td>4.653567e-07</td>\n",
       "      <td>3.659167</td>\n",
       "    </tr>\n",
       "  </tbody>\n",
       "</table>\n",
       "<p>5 rows × 66 columns</p>\n",
       "</div>"
      ],
      "text/plain": [
       "       reactor_type  total_mass evaluation_date  init_enr         bu  \\\n",
       "163647          PWR   464.84799      1992-03-08    3.8023  41919.101   \n",
       "163648          PWR   465.51000      1992-03-08    3.8006  38000.400   \n",
       "163649          PWR   466.22299      1993-09-25    3.8008  43271.898   \n",
       "163650          PWR   464.98098      1992-03-08    3.8174  37646.199   \n",
       "163651          PWR   464.53201      1992-03-08    3.8019  40967.101   \n",
       "\n",
       "           zr-95     zr-93        ra-226    ru-103    ru-106    ...     \\\n",
       "163647  0.000169  0.096829  3.190784e-12  0.000010  0.011643    ...      \n",
       "163648  0.000156  0.088901  3.398129e-12  0.000009  0.010098    ...      \n",
       "163649  0.000116  0.099510  6.269906e-12  0.000007  0.009283    ...      \n",
       "163650  0.000155  0.088220  3.436438e-12  0.000008  0.009938    ...      \n",
       "163651  0.000166  0.094918  3.240070e-12  0.000009  0.011262    ...      \n",
       "\n",
       "           tc-99    sm-151     se-79     sr-90    sn-126        th-232  \\\n",
       "163647  0.096011  0.001785  0.000577  0.062751  0.002731  5.318036e-07   \n",
       "163648  0.088417  0.001701  0.000531  0.058238  0.002428  5.080243e-07   \n",
       "163649  0.098385  0.001771  0.000592  0.062967  0.002836  5.524881e-07   \n",
       "163650  0.087745  0.001696  0.000527  0.057896  0.002397  5.073165e-07   \n",
       "163651  0.094191  0.001765  0.000566  0.061672  0.002657  5.263706e-07   \n",
       "\n",
       "              th-230         u-232         u-233     other  \n",
       "163647  1.740267e-07  1.445304e-07  4.668025e-07  3.743975  \n",
       "163648  1.866053e-07  1.202960e-07  4.592145e-07  3.394692  \n",
       "163649  2.374266e-07  1.902208e-07  4.809913e-07  3.864627  \n",
       "163650  1.888501e-07  1.182436e-07  4.607631e-07  3.363233  \n",
       "163651  1.770091e-07  1.385161e-07  4.653567e-07  3.659167  \n",
       "\n",
       "[5 rows x 66 columns]"
      ]
     },
     "execution_count": 6,
     "metadata": {},
     "output_type": "execute_result"
    }
   ],
   "source": [
    "df.head()"
   ]
  },
  {
   "cell_type": "code",
   "execution_count": 7,
   "metadata": {},
   "outputs": [
    {
     "data": {
      "image/png": "[encoded data removed]",
      "text/plain": [
       "<Figure size 432x288 with 1 Axes>"
      ]
     },
     "metadata": {
      "needs_background": "light"
     },
     "output_type": "display_data"
    }
   ],
   "source": [
    "plt.scatter(df['init_enr'], df['bu'])\n",
    "plt.show()"
   ]
  },
  {
   "cell_type": "code",
   "execution_count": null,
   "metadata": {},
   "outputs": [],
   "source": [
    "def df_to_scale(df, index, filepath, assembly, days=550):\n",
    "    assem_dict = "
   ]
  },
  {
   "cell_type": "code",
   "execution_count": null,
   "metadata": {},
   "outputs": [],
   "source": [
    "err_dict = {}\n",
    "i = 0\n",
    "\n",
    "indx = 163650\n",
    "for day in [300, 350, 400, 450, 500, 550]:\n",
    "    for assembly in ['bw15x15', 's14x14', 's18x18', 'w14x14',\n",
    "                     'w15x15', 'w17x17', 'ce14x14', 'ce16x16']:\n",
    "        assem_dict = sda.df_row_to_com_dict(df[indx])\n",
    "        enr = df[indx]['init_enr']\n",
    "        bu = df[indx]['bu']\n",
    "        \n",
    "        filename = 'temp'\n",
    "        sda.create_scale_input(filename+'.inp', enr=enr, bu=bu,\n",
    "                               days=day, assembly=assembly)\n",
    "        sda.run_scale(filename+'.inp', windows=windows)\n",
    "        scale_dict = sda.read_scale_out(filename+'.out', after_decay=True)\n",
    "        err = sda.compare_dicts(assem_dict_data, scale_dict)\n",
    "        err_dict[i] = {'day': day, 'assembly': assembly,\n",
    "                       'error': err, 'error_sum': sum(err.valules())}\n",
    "        i += 1"
   ]
  },
  {
   "cell_type": "code",
   "execution_count": null,
   "metadata": {},
   "outputs": [],
   "source": [
    "rank_dict = {}\n",
    "for key, val in err_dict.items():\n",
    "    rank_dict[key] = abs(val['error_sum'])\n",
    "min_val = min(rank_dict.values())\n",
    "key = [k for k, v in rank_dict.items() if v == min_val]\n",
    "print(key)\n",
    "winner = err_dict[key[0]]\n",
    "winner"
   ]
  },
  {
   "cell_type": "code",
   "execution_count": null,
   "metadata": {},
   "outputs": [],
   "source": [
    "! del zh.out zh.inp\n",
    "assem_dict_data = df_to_scale(df, 163650, './zh.inp', winner['assembly'],\n",
    "                              days=winner['day'])\n",
    "! C:\\SCALE-6.2.2\\bin\\scalerte zh.inp\n",
    "scale_dict = read_scale_out('zh.out', True)\n",
    "err = compare_comp_dicts(assem_dict_data, scale_dict)\n",
    "err_dict[i] = {'day': day, 'assembly': assembly,\n",
    "               'error': err}"
   ]
  }
 ],
 "metadata": {
  "kernelspec": {
   "display_name": "Python 3",
   "language": "python",
   "name": "python3"
  },
  "language_info": {
   "codemirror_mode": {
    "name": "ipython",
    "version": 3
   },
   "file_extension": ".py",
   "mimetype": "text/x-python",
   "name": "python",
   "nbconvert_exporter": "python",
   "pygments_lexer": "ipython3",
   "version": "3.7.1"
  }
 },
 "nbformat": 4,
 "nbformat_minor": 2
}
