{
 "cells": [
  {
   "cell_type": "code",
   "execution_count": 32,
   "metadata": {
    "collapsed": false
   },
   "outputs": [
    {
     "name": "stdout",
     "output_type": "stream",
     "text": [
      "Burnup, MWd/kgU [43.802754813554614, 45.37009541762613, 46.94722702313618, 49.23483365818109, 52.319799612096034, 52.87405855144985, 52.87544941225862, 52.904246550204846, 54.3846663752364, 56.50430727172946, 56.82652296609427, 57.824316450961895, 59.2735127628429, 63.06263025701725, 63.32381906895979, 66.6190737366716, 68.68675932679227, 77.98465814465683, 78.02908408426886, 78.17211505992515]\n",
      "Enrichment, %% [3.3, 4.6, 3.9, 3.7, 4.7, 4.1, 3.2, 3.6, 3.5, 4.9]\n"
     ]
    }
   ],
   "source": [
    "import random\n",
    "enrich = [ ] \n",
    "bu = [ ]\n",
    "for i in range(20):\n",
    "    bu.append(random.uniform(35, 80))\n",
    "\n",
    "while len(enrich)<10:\n",
    "    r = random.randrange(30, 50)/10\n",
    "    if r not in enrich:\n",
    "        enrich.append(r)\n",
    "bu.sort()\n",
    "print (\"Burnup, MWd/kgU\", bu )\n",
    "print (r\"Enrichment, %%\",  enrich )"
   ]
  },
  {
   "cell_type": "code",
   "execution_count": null,
   "metadata": {
    "collapsed": true
   },
   "outputs": [],
   "source": []
  }
 ],
 "metadata": {
  "anaconda-cloud": {},
  "kernelspec": {
   "display_name": "Python 3",
   "language": "python",
   "name": "python3"
  },
  "language_info": {
   "codemirror_mode": {
    "name": "ipython",
    "version": 3
   },
   "file_extension": ".py",
   "mimetype": "text/x-python",
   "name": "python",
   "nbconvert_exporter": "python",
   "pygments_lexer": "ipython3",
   "version": "3.6.6"
  }
 },
 "nbformat": 4,
 "nbformat_minor": 1
}
