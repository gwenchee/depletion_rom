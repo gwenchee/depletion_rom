{
 "cells": [
  {
   "cell_type": "markdown",
   "metadata": {},
   "source": [
    "# Compare model with UDB and SERPENT data"
   ]
  },
  {
   "cell_type": "code",
   "execution_count": 1,
   "metadata": {},
   "outputs": [
    {
     "name": "stderr",
     "output_type": "stream",
     "text": [
      "Using TensorFlow backend.\n"
     ]
    }
   ],
   "source": [
    "import numpy as np\n",
    "import matplotlib.pyplot as plt\n",
    "import seaborn as sns\n",
    "import pandas as pd\n",
    "import sklearn\n",
    "import keras.backend as K\n",
    "from keras.models import Sequential\n",
    "from keras.layers import Dense\n",
    "from sklearn.ensemble import RandomForestRegressor\n",
    "from sklearn import linear_model\n",
    "from sklearn import svm\n",
    "import pickle"
   ]
  },
  {
   "cell_type": "markdown",
   "metadata": {},
   "source": [
    "## Import pickle files"
   ]
  },
  {
   "cell_type": "code",
   "execution_count": 2,
   "metadata": {},
   "outputs": [],
   "source": [
    "model_dict = pickle.load(open('lin_dep.pkl', 'rb'))"
   ]
  },
  {
   "cell_type": "code",
   "execution_count": 81,
   "metadata": {},
   "outputs": [],
   "source": [
    "data_dict = pickle.load(open('all_data.pkl', 'rb'))"
   ]
  },
  {
   "cell_type": "code",
   "execution_count": 82,
   "metadata": {},
   "outputs": [],
   "source": [
    "udb_df = data_dict['UDB']\n",
    "# filter out 0 bu values\n",
    "serpent_df = data_dict['SERPENT'][data_dict['SERPENT'].bu != 0]\n",
    "\n",
    "data_dict = {'UDB': udb_df,\n",
    "             'SERPENT': serpent_df}"
   ]
  },
  {
   "cell_type": "code",
   "execution_count": 83,
   "metadata": {},
   "outputs": [],
   "source": [
    "iso_list = list(udb_df)[5:]"
   ]
  },
  {
   "cell_type": "markdown",
   "metadata": {},
   "source": [
    "## Comapre SERPENT and UDB data"
   ]
  },
  {
   "cell_type": "code",
   "execution_count": 84,
   "metadata": {},
   "outputs": [
    {
     "data": {
      "text/html": [
       "<div>\n",
       "<style scoped>\n",
       "    .dataframe tbody tr th:only-of-type {\n",
       "        vertical-align: middle;\n",
       "    }\n",
       "\n",
       "    .dataframe tbody tr th {\n",
       "        vertical-align: top;\n",
       "    }\n",
       "\n",
       "    .dataframe thead th {\n",
       "        text-align: right;\n",
       "    }\n",
       "</style>\n",
       "<table border=\"1\" class=\"dataframe\">\n",
       "  <thead>\n",
       "    <tr style=\"text-align: right;\">\n",
       "      <th></th>\n",
       "      <th>number of isotopes</th>\n",
       "      <th>number of calculations</th>\n",
       "    </tr>\n",
       "    <tr>\n",
       "      <th>Type</th>\n",
       "      <th></th>\n",
       "      <th></th>\n",
       "    </tr>\n",
       "  </thead>\n",
       "  <tbody>\n",
       "    <tr>\n",
       "      <th>SERPENT</th>\n",
       "      <td>1114</td>\n",
       "      <td>200</td>\n",
       "    </tr>\n",
       "    <tr>\n",
       "      <th>UDB</th>\n",
       "      <td>60</td>\n",
       "      <td>104551</td>\n",
       "    </tr>\n",
       "  </tbody>\n",
       "</table>\n",
       "</div>"
      ],
      "text/plain": [
       "         number of isotopes  number of calculations\n",
       "Type                                               \n",
       "SERPENT                1114                     200\n",
       "UDB                      60                  104551"
      ]
     },
     "execution_count": 84,
     "metadata": {},
     "output_type": "execute_result"
    }
   ],
   "source": [
    "data_info = {'Type': ['SERPENT', 'UDB'],\n",
    "             'number of isotopes': [len(list(serpent_df)[:-2]),\n",
    "                                    len(list(udb_df)[5:])],\n",
    "             'number of calculations': [serpent_df.shape[0], udb_df.shape[0]]}\n",
    "\n",
    "info_df = pd.DataFrame.from_dict(data_info)\n",
    "info_df = info_df.set_index('Type')\n",
    "info_df"
   ]
  },
  {
   "cell_type": "code",
   "execution_count": 122,
   "metadata": {
    "scrolled": true
   },
   "outputs": [
    {
     "name": "stdout",
     "output_type": "stream",
     "text": [
      "Example SERPENT enrichment and burnup:  [3.2999999999999998, 43809.199999999997]\n",
      "UDB assembly closest:  [3.2999999999999998, 43872.0]\n",
      "Isotope \t SERPENT \t UDB \t\t\t %Error\n",
      "zr-95 \t 6.19158883927e-05 \t 1.19880081345e-06 \t 98.0638236088\n",
      "zr-93 \t 0.000917666258151 \t 0.0010461326258 \t -13.9992471673\n",
      "ra-226 \t 3.67762604441e-15 \t 5.7414438267e-14 \t -1461.18206619\n",
      "ru-103 \t 4.8617034867e-05 \t 7.3565459723e-08 \t 99.8486837794\n",
      "ru-106 \t 0.000231054800791 \t 0.000103266591019 \t 55.3064508221\n",
      "sb-124 \t 5.43148845867e-08 \t 1.09009293108e-09 \t 97.9930125243\n",
      "sb-125 \t 1.31961856559e-05 \t 1.15856654631e-05 \t 12.2044372124\n",
      "pu-238 \t 0.000247886470912 \t 0.000324962713664 \t -31.0933640182\n",
      "pu-239 \t 0.00455677123098 \t 0.00658177198549 \t -44.439377179\n",
      "np-237 \t 0.000587514171993 \t 0.000636809768566 \t -8.39053744124\n",
      "nb-95 \t 3.4597010099e-05 \t 1.41387465653e-06 \t 95.913303917\n",
      "pa-231 \t 7.06032615193e-11 \t 5.95248520019e-10 \t -743.089266998\n",
      "pd-107 \t 0.000349796812502 \t 0.000354110950064 \t -1.23332672202\n",
      "pm-147 \t 0.000190687661055 \t 0.000150991832308 \t 20.8171984109\n",
      "pu-240 \t 0.00166001790362 \t 0.00299289227598 \t -80.2927709061\n",
      "pu-241 \t 0.00168565231256 \t 0.001758288096 \t -4.30906082445\n",
      "pu-244 \t 9.07367997929e-08 \t 8.67079778685e-08 \t 4.44011904063\n",
      "pu-242 \t 0.00108676002273 \t 0.000871252154925 \t 19.8303087435\n",
      "i-129 \t 0.000217042698596 \t 0.000224582754592 \t -3.47399661179\n",
      "h-3 \t 0.0 \t 7.30992070913e-08 \t -inf\n",
      "kr-85 \t 3.8381395534e-05 \t 3.44618587259e-05 \t 10.2120747659\n",
      "nb-94 \t 9.8338346241e-10 \t 2.11940125013e-09 \t -115.521343519\n",
      "cm-248 \t 9.52701397416e-10 \t 1.67957574351e-09 \t -76.2961351867\n",
      "cs-134 \t 0.000202963308792 \t 0.000143008562356 \t 29.5396969989\n",
      "cs-135 \t 0.000402247504699 \t 0.00058433627869 \t -45.2678442658\n",
      "cm-245 \t 6.88586674307e-06 \t 8.63689847456e-06 \t -25.4293583775\n",
      "cm-244 \t 0.000112308447943 \t 0.000116972536328 \t -4.15292746933\n",
      "cm-246 \t 9.28564680445e-07 \t 1.09399270254e-06 \t -17.8154549248\n",
      "cm-247 \t 1.20356914358e-08 \t 1.8999253685e-08 \t -57.8576003415\n",
      "eu-152 \t 1.20783430984e-08 \t 1.50174020761e-08 \t -24.3332959971\n",
      "cs-137 \t 0.00164767822413 \t 0.00160833602698 \t 2.38773545567\n",
      "eu-154 \t 3.32429012067e-05 \t 3.71292372165e-05 \t -11.6907245419\n",
      "eu-155 \t 1.15880117707e-05 \t 1.0913203959e-05 \t 5.82332694402\n",
      "am-241 \t 5.22491549517e-05 \t 0.000160414696179 \t -207.018738059\n",
      "am-242m \t 5.7784212066e-07 \t 1.11822359068e-06 \t -93.517147798\n",
      "am-243 \t 0.000280654451824 \t 0.000254104057608 \t 9.46017212405\n",
      "cf-251 \t 3.62240679264e-18 \t 4.64984075656e-12 \t -128363196.083\n",
      "cf-249 \t 4.55159442612e-12 \t 1.44703713091e-11 \t -217.918732523\n",
      "ag-108m \t 2.92259394026e-14 \t 3.56710666807e-10 \t -1220427.63435\n",
      "ag-110m \t 1.5002749463e-06 \t 5.09738662476e-07 \t 66.0236502827\n",
      "ac-227 \t 2.50519369984e-15 \t 2.30725811825e-14 \t -820.98990924\n",
      "cm-243 \t 6.4521329779e-07 \t 8.11047673026e-07 \t -25.7022562622\n",
      "cm-242 \t 2.54037860831e-05 \t 5.88091122795e-06 \t 76.8502568526\n",
      "c-14 \t 6.75112872994e-11 \t 1.29442018814e-07 \t -191633.892201\n",
      "ce-144 \t 0.000386485924638 \t 0.000131380034355 \t 66.0065151201\n",
      "u-234 \t 2.57575886789e-05 \t 0.00015292123411 \t -493.693905189\n",
      "u-235 \t 0.00426649030975 \t 0.00670876194685 \t -57.2431075613\n",
      "u-236 \t 0.00432015760535 \t 0.00466112136075 \t -7.8923915871\n",
      "y-90 \t 1.78916670396e-07 \t 1.63756333251e-07 \t 8.47340670482\n",
      "u-238 \t 0.934887545242 \t 0.96859001402 \t -3.60497569462\n",
      "th-229 \t 1.32407908298e-13 \t 2.45122755146e-12 \t -1751.26974889\n",
      "tc-99 \t 0.00100838732133 \t 0.00103094753798 \t -2.23725707188\n",
      "sm-151 \t 1.18007274419e-05 \t 1.50733843673e-05 \t -27.7326710712\n",
      "se-79 \t 5.97840649599e-06 \t 6.0890484447e-06 \t -1.85069296942\n",
      "sr-90 \t 0.00067425658389 \t 0.000645568378808 \t 4.25479050065\n",
      "sn-126 \t 3.11696831119e-05 \t 3.05557679105e-05 \t 1.96959076919\n",
      "th-232 \t 2.66136607269e-10 \t 5.61892229504e-09 \t -2011.2925248\n",
      "th-230 \t 2.02107019687e-10 \t 2.11949899966e-09 \t -948.701328113\n",
      "u-232 \t 6.56123658209e-11 \t 1.83962414682e-09 \t -2703.77658054\n",
      "u-233 \t 7.45745328654e-10 \t 3.89881639923e-09 \t -422.808021643\n"
     ]
    },
    {
     "name": "stderr",
     "output_type": "stream",
     "text": [
      "/home/teddy/anaconda3/lib/python3.6/site-packages/ipykernel_launcher.py:17: RuntimeWarning: divide by zero encountered in double_scalars\n"
     ]
    }
   ],
   "source": [
    "# difference between UDB and SERPENT\n",
    "serpent_row = serpent_df.iloc[0]\n",
    "serpent_bu = serpent_df.iloc[0]['bu']\n",
    "serpent_enr = serpent_df.iloc[0]['init_enr']\n",
    "enr_bu = [serpent_enr, serpent_bu]\n",
    "print('Example SERPENT enrichment and burnup: ', enr_bu)\n",
    "# UDB datapoint closest to serpent enr_bu\n",
    "udb_df['err'] = abs(udb_df['bu'] - serpent_bu) + abs(udb_df['init_enr'] - serpent_enr) * 10000\n",
    "minimum_err = udb_df['err'].idxmin()\n",
    "udb_df = udb_df.drop(columns='err')\n",
    "average_assem = udb_df.loc[minimum_err]\n",
    "print('UDB assembly closest: ', [average_assem['init_enr'], average_assem['bu']])\n",
    "\n",
    "\n",
    "print('Isotope', '\\t', 'SERPENT', '\\t', 'UDB', '\\t\\t\\t', '%Error')\n",
    "for iso in iso_list:\n",
    "    err = (serpent_row[iso] - average_assem[iso]) / serpent_row[iso] * 100\n",
    "    print(iso, '\\t', serpent_row[iso], '\\t', average_assem[iso], '\\t', err)"
   ]
  },
  {
   "cell_type": "markdown",
   "metadata": {},
   "source": [
    "## bu and enrichment distribution"
   ]
  },
  {
   "cell_type": "code",
   "execution_count": 88,
   "metadata": {},
   "outputs": [
    {
     "data": {
      "image/png": "[encoded data removed]",
      "text/plain": [
       "<Figure size 432x288 with 1 Axes>"
      ]
     },
     "metadata": {
      "needs_background": "light"
     },
     "output_type": "display_data"
    }
   ],
   "source": [
    "for key, val in data_dict.items():    \n",
    "    plt.scatter(val['init_enr'], val['bu'], label=key)\n",
    "plt.xlabel('Enrichment [wt%]')\n",
    "plt.ylabel('Burnup [MWd/kg]')\n",
    "plt.xlim(1.5, 5.0)\n",
    "plt.ylim(1e4, 8e4)\n",
    "plt.title('%s burnup and enrichment distribution' %key)\n",
    "plt.legend()\n",
    "plt.show()\n",
    "plt.close()"
   ]
  },
  {
   "cell_type": "markdown",
   "metadata": {},
   "source": [
    "## Compare model results and SERPENT results"
   ]
  },
  {
   "cell_type": "code",
   "execution_count": 91,
   "metadata": {},
   "outputs": [],
   "source": [
    "\n",
    "def get_a(f):\n",
    "    z = ''\n",
    "    for i in f:\n",
    "        if i.isdigit():\n",
    "            z += i\n",
    "    return int(z)\n",
    "\n",
    "def deplete_using_rom(dep_dict, enr_bu):\n",
    "    depleted_composition_rom = {}\n",
    "    for indx, enr_bu_set in enumerate(enr_bu):\n",
    "        depleted_composition_rom[indx] = {}\n",
    "        x = [enr_bu_set]\n",
    "        for iso, alg in dep_dict.items():\n",
    "            if 'alg' in iso:\n",
    "                continue\n",
    "            else:\n",
    "                if any(i.isdigit() for i in dep_dict[iso + '_alg']):\n",
    "                    deg = get_a(dep_dict[iso + '_alg'])\n",
    "                    poly = sklearn.preprocessing.PolynomialFeatures(degree=deg)\n",
    "                    depleted_composition_rom[indx][iso] = dep_dict[iso].predict(poly.fit_transform(x))[0]\n",
    "                else:\n",
    "                    depleted_composition_rom[indx][iso] = dep_dict[iso].predict(x)[0]\n",
    "\n",
    "    print('\\n')\n",
    "    return depleted_composition_rom"
   ]
  },
  {
   "cell_type": "code",
   "execution_count": 95,
   "metadata": {},
   "outputs": [
    {
     "name": "stdout",
     "output_type": "stream",
     "text": [
      "\n",
      "\n"
     ]
    }
   ],
   "source": [
    "enr_bu = [[serpent_df.iloc[0]['init_enr'], serpent_df.iloc[0]['bu']]]\n",
    "dep_dict = deplete_using_rom(model_dict, enr_bu)[0]"
   ]
  },
  {
   "cell_type": "code",
   "execution_count": 101,
   "metadata": {},
   "outputs": [
    {
     "name": "stdout",
     "output_type": "stream",
     "text": [
      "zr-95 \t 1.23913929586e-06 \t 6.19158883927e-05 \t 6.06767490969e-05\n",
      "zr-93 \t 0.0010346159826 \t 0.000917666258151 \t -0.000116949724452\n",
      "ra-226 \t 8.02817565029e-14 \t 3.67762604441e-15 \t -7.66041304585e-14\n",
      "ru-103 \t 7.60614593242e-08 \t 4.8617034867e-05 \t 4.85409734076e-05\n",
      "ru-106 \t 0.000101464251367 \t 0.000231054800791 \t 0.000129590549424\n",
      "sb-124 \t 1.17161286784e-09 \t 5.43148845867e-08 \t 5.31432717188e-08\n",
      "sb-125 \t 1.12766275758e-05 \t 1.31961856559e-05 \t 1.91955808016e-06\n",
      "pu-238 \t 0.000360627850157 \t 0.000247886470912 \t -0.000112741379245\n",
      "\n",
      "\n",
      "\n",
      "pu-239 \t 0.00675798023241 \t 0.00455677123098 \t -0.00220120900143\n",
      "np-237 \t 0.000661738411208 \t 0.000587514171993 \t -7.42242392155e-05\n",
      "nb-95 \t 1.46286961018e-06 \t 3.4597010099e-05 \t 3.31341404888e-05\n",
      "pa-231 \t 6.81808229625e-10 \t 7.06032615193e-11 \t -6.11204968106e-10\n",
      "pd-107 \t 0.000358740023162 \t 0.000349796812502 \t -8.94321065939e-06\n",
      "pm-147 \t 0.000145812278397 \t 0.000190687661055 \t 4.4875382658e-05\n",
      "pu-240 \t 0.00305578068185 \t 0.00166001790362 \t -0.00139576277822\n",
      "pu-241 \t 0.00192545151526 \t 0.00168565231256 \t -0.000239799202699\n",
      "pu-244 \t 8.87067848802e-08 \t 9.07367997929e-08 \t 2.03001491278e-09\n",
      "pu-242 \t 0.000863302243707 \t 0.00108676002273 \t 0.000223457779027\n",
      "i-129 \t 0.000225439540603 \t 0.000217042698596 \t -8.39684200642e-06\n",
      "h-3 \t 7.31028512058e-08 \t 0.0 \t -7.31028512058e-08\n",
      "kr-85 \t 3.1264057629e-05 \t 3.8381395534e-05 \t 7.11733790502e-06\n",
      "nb-94 \t 2.18049659845e-09 \t 9.8338346241e-10 \t -1.19711313604e-09\n",
      "cm-248 \t 1.75872225633e-09 \t 9.52701397416e-10 \t -8.06020858915e-10\n",
      "cs-134 \t 0.000141552896316 \t 0.000202963308792 \t 6.1410412476e-05\n",
      "cs-135 \t 0.000613186487764 \t 0.000402247504699 \t -0.000210938983065\n",
      "cm-245 \t 9.82874261247e-06 \t 6.88586674307e-06 \t -2.9428758694e-06\n",
      "cm-244 \t 0.000117739474805 \t 0.000112308447943 \t -5.43102686157e-06\n",
      "cm-246 \t 1.10549226505e-06 \t 9.28564680445e-07 \t -1.76927584603e-07\n",
      "cm-247 \t 1.97829651476e-08 \t 1.20356914358e-08 \t -7.74727371184e-09\n",
      "eu-152 \t 1.91805189031e-08 \t 1.20783430984e-08 \t -7.10217580468e-09\n",
      "\n",
      "\n",
      "\n",
      "cs-137 \t 0.00158661660228 \t 0.00164767822413 \t 6.10616218539e-05\n",
      "eu-154 \t 3.95164206931e-05 \t 3.32429012067e-05 \t -6.27351948637e-06\n",
      "eu-155 \t 1.10001232869e-05 \t 1.15880117707e-05 \t 5.87888483831e-07\n",
      "am-241 \t 0.000190434813096 \t 5.22491549517e-05 \t -0.000138185658144\n",
      "am-242m \t 1.59007730923e-06 \t 5.7784212066e-07 \t -1.01223518857e-06\n",
      "am-243 \t 0.000256406269398 \t 0.000280654451824 \t 2.42481824261e-05\n",
      "cf-251 \t 5.18204938955e-12 \t 3.62240679264e-18 \t -5.18204576714e-12\n",
      "cf-249 \t 1.71737265733e-11 \t 4.55159442612e-12 \t -1.26221321472e-11\n",
      "ag-108m \t 3.62296673657e-10 \t 2.92259394026e-14 \t -3.62267447718e-10\n",
      "ag-110m \t 5.22310716111e-07 \t 1.5002749463e-06 \t 9.77964230189e-07\n",
      "ac-227 \t 2.96076135391e-14 \t 2.50519369984e-15 \t -2.71024198392e-14\n",
      "cm-243 \t 1.08628161164e-06 \t 6.4521329779e-07 \t -4.41068313854e-07\n",
      "cm-242 \t 7.60634710803e-06 \t 2.54037860831e-05 \t 1.7797438975e-05\n",
      "c-14 \t 1.30224239575e-07 \t 6.75112872994e-11 \t -1.30156728288e-07\n",
      "ce-144 \t 0.000130667330872 \t 0.000386485924638 \t 0.000255818593766\n",
      "u-234 \t 0.000152737084349 \t 2.57575886789e-05 \t -0.00012697949567\n",
      "\n",
      "\n",
      "\n",
      "u-235 \t 0.00693248814799 \t 0.00426649030975 \t -0.00266599783824\n",
      "u-236 \t 0.00465810226021 \t 0.00432015760535 \t -0.000337944654856\n",
      "y-90 \t 1.59889856431e-07 \t 1.78916670396e-07 \t 1.90268139648e-08\n",
      "u-238 \t 0.96857108095 \t 0.934887545242 \t -0.0336835357085\n",
      "th-229 \t 3.49727580469e-12 \t 1.32407908298e-13 \t -3.3648678964e-12\n",
      "tc-99 \t 0.0010292739583 \t 0.00100838732133 \t -2.08866369762e-05\n",
      "sm-151 \t 1.64412700048e-05 \t 1.18007274419e-05 \t -4.64054256291e-06\n",
      "se-79 \t 6.10291278745e-06 \t 5.97840649599e-06 \t -1.24506291454e-07\n",
      "sr-90 \t 0.00063028938523 \t 0.00067425658389 \t 4.39671986593e-05\n",
      "sn-126 \t 3.08772760986e-05 \t 3.11696831119e-05 \t 2.92407013257e-07\n",
      "th-232 \t 5.36177946908e-09 \t 2.66136607269e-10 \t -5.09564286182e-09\n",
      "th-230 \t 2.35698031293e-09 \t 2.02107019687e-10 \t -2.15487329324e-09\n",
      "u-232 \t 2.01845282686e-09 \t 6.56123658209e-11 \t -1.95284046104e-09\n",
      "u-233 \t 4.13944629833e-09 \t 7.45745328654e-10 \t -3.39370096968e-09\n"
     ]
    }
   ],
   "source": [
    "for key, val in dep_dict.items():\n",
    "    # err = (serpent_df.iloc[0][key] - val) / serpent_df.iloc[0][key]\n",
    "    err = (serpent_df.iloc[0][key] - val)\n",
    "    if key in ['pu-239', 'u-235', 'cs-137']:\n",
    "        print('\\n\\n')\n",
    "    print(key, '\\t', val, '\\t', serpent_df.iloc[0][key], '\\t', err)"
   ]
  },
  {
   "cell_type": "code",
   "execution_count": null,
   "metadata": {},
   "outputs": [],
   "source": []
  }
 ],
 "metadata": {
  "kernelspec": {
   "display_name": "Python 3",
   "language": "python",
   "name": "python3"
  },
  "language_info": {
   "codemirror_mode": {
    "name": "ipython",
    "version": 3
   },
   "file_extension": ".py",
   "mimetype": "text/x-python",
   "name": "python",
   "nbconvert_exporter": "python",
   "pygments_lexer": "ipython3",
   "version": "3.6.6"
  }
 },
 "nbformat": 4,
 "nbformat_minor": 2
}
